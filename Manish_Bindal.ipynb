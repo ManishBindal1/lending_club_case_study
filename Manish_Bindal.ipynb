{
 "cells": [
  {
   "cell_type": "code",
   "execution_count": 1,
   "metadata": {},
   "outputs": [],
   "source": [
    "# import packages\n",
    "import numpy as np\n",
    "import pandas as pd\n",
    "import matplotlib.pyplot as plt"
   ]
  },
  {
   "cell_type": "markdown",
   "metadata": {},
   "source": [
    "# Data Understanding, Cleaning and Manipulation"
   ]
  },
  {
   "cell_type": "code",
   "execution_count": 2,
   "metadata": {},
   "outputs": [
    {
     "name": "stderr",
     "output_type": "stream",
     "text": [
      "C:\\Users\\varni\\anaconda3\\lib\\site-packages\\IPython\\core\\interactiveshell.py:3146: DtypeWarning: Columns (47) have mixed types.Specify dtype option on import or set low_memory=False.\n",
      "  has_raised = await self.run_ast_nodes(code_ast.body, cell_name,\n"
     ]
    }
   ],
   "source": [
    "# import dataset and create dataframe\n",
    "df_loan = pd.read_csv('loan.csv')"
   ]
  },
  {
   "cell_type": "code",
   "execution_count": 3,
   "metadata": {},
   "outputs": [
    {
     "data": {
      "text/html": [
       "<div>\n",
       "<style scoped>\n",
       "    .dataframe tbody tr th:only-of-type {\n",
       "        vertical-align: middle;\n",
       "    }\n",
       "\n",
       "    .dataframe tbody tr th {\n",
       "        vertical-align: top;\n",
       "    }\n",
       "\n",
       "    .dataframe thead th {\n",
       "        text-align: right;\n",
       "    }\n",
       "</style>\n",
       "<table border=\"1\" class=\"dataframe\">\n",
       "  <thead>\n",
       "    <tr style=\"text-align: right;\">\n",
       "      <th></th>\n",
       "      <th>next_pymnt_d</th>\n",
       "    </tr>\n",
       "  </thead>\n",
       "  <tbody>\n",
       "    <tr>\n",
       "      <th>0</th>\n",
       "      <td>NaN</td>\n",
       "    </tr>\n",
       "    <tr>\n",
       "      <th>1</th>\n",
       "      <td>NaN</td>\n",
       "    </tr>\n",
       "    <tr>\n",
       "      <th>2</th>\n",
       "      <td>NaN</td>\n",
       "    </tr>\n",
       "    <tr>\n",
       "      <th>3</th>\n",
       "      <td>NaN</td>\n",
       "    </tr>\n",
       "    <tr>\n",
       "      <th>4</th>\n",
       "      <td>Jun-16</td>\n",
       "    </tr>\n",
       "    <tr>\n",
       "      <th>...</th>\n",
       "      <td>...</td>\n",
       "    </tr>\n",
       "    <tr>\n",
       "      <th>39712</th>\n",
       "      <td>NaN</td>\n",
       "    </tr>\n",
       "    <tr>\n",
       "      <th>39713</th>\n",
       "      <td>NaN</td>\n",
       "    </tr>\n",
       "    <tr>\n",
       "      <th>39714</th>\n",
       "      <td>NaN</td>\n",
       "    </tr>\n",
       "    <tr>\n",
       "      <th>39715</th>\n",
       "      <td>NaN</td>\n",
       "    </tr>\n",
       "    <tr>\n",
       "      <th>39716</th>\n",
       "      <td>NaN</td>\n",
       "    </tr>\n",
       "  </tbody>\n",
       "</table>\n",
       "<p>39717 rows × 1 columns</p>\n",
       "</div>"
      ],
      "text/plain": [
       "      next_pymnt_d\n",
       "0              NaN\n",
       "1              NaN\n",
       "2              NaN\n",
       "3              NaN\n",
       "4           Jun-16\n",
       "...            ...\n",
       "39712          NaN\n",
       "39713          NaN\n",
       "39714          NaN\n",
       "39715          NaN\n",
       "39716          NaN\n",
       "\n",
       "[39717 rows x 1 columns]"
      ]
     },
     "execution_count": 3,
     "metadata": {},
     "output_type": "execute_result"
    }
   ],
   "source": [
    "# checking column 47\n",
    "df_loan.iloc[:, 47:48]"
   ]
  },
  {
   "cell_type": "code",
   "execution_count": 4,
   "metadata": {},
   "outputs": [
    {
     "data": {
      "text/plain": [
       "38577"
      ]
     },
     "execution_count": 4,
     "metadata": {},
     "output_type": "execute_result"
    }
   ],
   "source": [
    "# checking for null values\n",
    "df_loan['next_pymnt_d'].isnull().sum()"
   ]
  },
  {
   "cell_type": "code",
   "execution_count": 5,
   "metadata": {},
   "outputs": [
    {
     "data": {
      "text/plain": [
       "(39717, 110)"
      ]
     },
     "execution_count": 5,
     "metadata": {},
     "output_type": "execute_result"
    }
   ],
   "source": [
    "# approximately 97% of values for next_pymnt_d column are null hence dropping this column\n",
    "df_loan = df_loan.drop(['next_pymnt_d'], axis = 1)\n",
    "\n",
    "# shape of dataframe\n",
    "df_loan.shape"
   ]
  },
  {
   "cell_type": "code",
   "execution_count": 6,
   "metadata": {},
   "outputs": [
    {
     "data": {
      "text/plain": [
       "(38577, 110)"
      ]
     },
     "execution_count": 6,
     "metadata": {},
     "output_type": "execute_result"
    }
   ],
   "source": [
    "# as mentioned in case study and explained in the session as well, objective here is to identify strong indicators of defaulters\n",
    "# loan_status = Current, indicates that borrower is still paying the loan and will either be a Fully Paid or Charged Off in the future\n",
    "# but at this point of time it is unsure\n",
    "# hence, remove rows having loan_status = Current\n",
    "df_loan = df_loan[df_loan['loan_status'] != 'Current']\n",
    "\n",
    "# check the shape of dataframe again\n",
    "df_loan.shape"
   ]
  },
  {
   "cell_type": "code",
   "execution_count": 7,
   "metadata": {},
   "outputs": [
    {
     "name": "stdout",
     "output_type": "stream",
     "text": [
      "<class 'pandas.core.frame.DataFrame'>\n",
      "Int64Index: 38577 entries, 0 to 39716\n",
      "Data columns (total 110 columns):\n",
      " #   Column                          Non-Null Count  Dtype  \n",
      "---  ------                          --------------  -----  \n",
      " 0   id                              38577 non-null  int64  \n",
      " 1   member_id                       38577 non-null  int64  \n",
      " 2   loan_amnt                       38577 non-null  int64  \n",
      " 3   funded_amnt                     38577 non-null  int64  \n",
      " 4   funded_amnt_inv                 38577 non-null  float64\n",
      " 5   term                            38577 non-null  object \n",
      " 6   int_rate                        38577 non-null  object \n",
      " 7   installment                     38577 non-null  float64\n",
      " 8   grade                           38577 non-null  object \n",
      " 9   sub_grade                       38577 non-null  object \n",
      " 10  emp_title                       36191 non-null  object \n",
      " 11  emp_length                      37544 non-null  object \n",
      " 12  home_ownership                  38577 non-null  object \n",
      " 13  annual_inc                      38577 non-null  float64\n",
      " 14  verification_status             38577 non-null  object \n",
      " 15  issue_d                         38577 non-null  object \n",
      " 16  loan_status                     38577 non-null  object \n",
      " 17  pymnt_plan                      38577 non-null  object \n",
      " 18  url                             38577 non-null  object \n",
      " 19  desc                            26050 non-null  object \n",
      " 20  purpose                         38577 non-null  object \n",
      " 21  title                           38566 non-null  object \n",
      " 22  zip_code                        38577 non-null  object \n",
      " 23  addr_state                      38577 non-null  object \n",
      " 24  dti                             38577 non-null  float64\n",
      " 25  delinq_2yrs                     38577 non-null  int64  \n",
      " 26  earliest_cr_line                38577 non-null  object \n",
      " 27  inq_last_6mths                  38577 non-null  int64  \n",
      " 28  mths_since_last_delinq          13672 non-null  float64\n",
      " 29  mths_since_last_record          2740 non-null   float64\n",
      " 30  open_acc                        38577 non-null  int64  \n",
      " 31  pub_rec                         38577 non-null  int64  \n",
      " 32  revol_bal                       38577 non-null  int64  \n",
      " 33  revol_util                      38527 non-null  object \n",
      " 34  total_acc                       38577 non-null  int64  \n",
      " 35  initial_list_status             38577 non-null  object \n",
      " 36  out_prncp                       38577 non-null  float64\n",
      " 37  out_prncp_inv                   38577 non-null  float64\n",
      " 38  total_pymnt                     38577 non-null  float64\n",
      " 39  total_pymnt_inv                 38577 non-null  float64\n",
      " 40  total_rec_prncp                 38577 non-null  float64\n",
      " 41  total_rec_int                   38577 non-null  float64\n",
      " 42  total_rec_late_fee              38577 non-null  float64\n",
      " 43  recoveries                      38577 non-null  float64\n",
      " 44  collection_recovery_fee         38577 non-null  float64\n",
      " 45  last_pymnt_d                    38506 non-null  object \n",
      " 46  last_pymnt_amnt                 38577 non-null  float64\n",
      " 47  last_credit_pull_d              38575 non-null  object \n",
      " 48  collections_12_mths_ex_med      38521 non-null  float64\n",
      " 49  mths_since_last_major_derog     0 non-null      float64\n",
      " 50  policy_code                     38577 non-null  int64  \n",
      " 51  application_type                38577 non-null  object \n",
      " 52  annual_inc_joint                0 non-null      float64\n",
      " 53  dti_joint                       0 non-null      float64\n",
      " 54  verification_status_joint       0 non-null      float64\n",
      " 55  acc_now_delinq                  38577 non-null  int64  \n",
      " 56  tot_coll_amt                    0 non-null      float64\n",
      " 57  tot_cur_bal                     0 non-null      float64\n",
      " 58  open_acc_6m                     0 non-null      float64\n",
      " 59  open_il_6m                      0 non-null      float64\n",
      " 60  open_il_12m                     0 non-null      float64\n",
      " 61  open_il_24m                     0 non-null      float64\n",
      " 62  mths_since_rcnt_il              0 non-null      float64\n",
      " 63  total_bal_il                    0 non-null      float64\n",
      " 64  il_util                         0 non-null      float64\n",
      " 65  open_rv_12m                     0 non-null      float64\n",
      " 66  open_rv_24m                     0 non-null      float64\n",
      " 67  max_bal_bc                      0 non-null      float64\n",
      " 68  all_util                        0 non-null      float64\n",
      " 69  total_rev_hi_lim                0 non-null      float64\n",
      " 70  inq_fi                          0 non-null      float64\n",
      " 71  total_cu_tl                     0 non-null      float64\n",
      " 72  inq_last_12m                    0 non-null      float64\n",
      " 73  acc_open_past_24mths            0 non-null      float64\n",
      " 74  avg_cur_bal                     0 non-null      float64\n",
      " 75  bc_open_to_buy                  0 non-null      float64\n",
      " 76  bc_util                         0 non-null      float64\n",
      " 77  chargeoff_within_12_mths        38521 non-null  float64\n",
      " 78  delinq_amnt                     38577 non-null  int64  \n",
      " 79  mo_sin_old_il_acct              0 non-null      float64\n",
      " 80  mo_sin_old_rev_tl_op            0 non-null      float64\n",
      " 81  mo_sin_rcnt_rev_tl_op           0 non-null      float64\n",
      " 82  mo_sin_rcnt_tl                  0 non-null      float64\n",
      " 83  mort_acc                        0 non-null      float64\n",
      " 84  mths_since_recent_bc            0 non-null      float64\n",
      " 85  mths_since_recent_bc_dlq        0 non-null      float64\n",
      " 86  mths_since_recent_inq           0 non-null      float64\n",
      " 87  mths_since_recent_revol_delinq  0 non-null      float64\n",
      " 88  num_accts_ever_120_pd           0 non-null      float64\n",
      " 89  num_actv_bc_tl                  0 non-null      float64\n",
      " 90  num_actv_rev_tl                 0 non-null      float64\n",
      " 91  num_bc_sats                     0 non-null      float64\n",
      " 92  num_bc_tl                       0 non-null      float64\n",
      " 93  num_il_tl                       0 non-null      float64\n",
      " 94  num_op_rev_tl                   0 non-null      float64\n",
      " 95  num_rev_accts                   0 non-null      float64\n",
      " 96  num_rev_tl_bal_gt_0             0 non-null      float64\n",
      " 97  num_sats                        0 non-null      float64\n",
      " 98  num_tl_120dpd_2m                0 non-null      float64\n",
      " 99  num_tl_30dpd                    0 non-null      float64\n",
      " 100 num_tl_90g_dpd_24m              0 non-null      float64\n",
      " 101 num_tl_op_past_12m              0 non-null      float64\n",
      " 102 pct_tl_nvr_dlq                  0 non-null      float64\n",
      " 103 percent_bc_gt_75                0 non-null      float64\n",
      " 104 pub_rec_bankruptcies            37880 non-null  float64\n",
      " 105 tax_liens                       38538 non-null  float64\n",
      " 106 tot_hi_cred_lim                 0 non-null      float64\n",
      " 107 total_bal_ex_mort               0 non-null      float64\n",
      " 108 total_bc_limit                  0 non-null      float64\n",
      " 109 total_il_high_credit_limit      0 non-null      float64\n",
      "dtypes: float64(74), int64(13), object(23)\n",
      "memory usage: 32.7+ MB\n"
     ]
    }
   ],
   "source": [
    "# summary of dataframe\n",
    "df_loan.info(verbose = True, null_counts = True)"
   ]
  },
  {
   "cell_type": "code",
   "execution_count": 8,
   "metadata": {},
   "outputs": [
    {
     "name": "stdout",
     "output_type": "stream",
     "text": [
      "<class 'pandas.core.frame.DataFrame'>\n",
      "Int64Index: 38577 entries, 0 to 39716\n",
      "Data columns (total 54 columns):\n",
      " #   Column                      Non-Null Count  Dtype  \n",
      "---  ------                      --------------  -----  \n",
      " 0   id                          38577 non-null  int64  \n",
      " 1   member_id                   38577 non-null  int64  \n",
      " 2   loan_amnt                   38577 non-null  int64  \n",
      " 3   funded_amnt                 38577 non-null  int64  \n",
      " 4   funded_amnt_inv             38577 non-null  float64\n",
      " 5   term                        38577 non-null  object \n",
      " 6   int_rate                    38577 non-null  object \n",
      " 7   installment                 38577 non-null  float64\n",
      " 8   grade                       38577 non-null  object \n",
      " 9   sub_grade                   38577 non-null  object \n",
      " 10  emp_title                   36191 non-null  object \n",
      " 11  emp_length                  37544 non-null  object \n",
      " 12  home_ownership              38577 non-null  object \n",
      " 13  annual_inc                  38577 non-null  float64\n",
      " 14  verification_status         38577 non-null  object \n",
      " 15  issue_d                     38577 non-null  object \n",
      " 16  loan_status                 38577 non-null  object \n",
      " 17  pymnt_plan                  38577 non-null  object \n",
      " 18  url                         38577 non-null  object \n",
      " 19  desc                        26050 non-null  object \n",
      " 20  purpose                     38577 non-null  object \n",
      " 21  title                       38566 non-null  object \n",
      " 22  zip_code                    38577 non-null  object \n",
      " 23  addr_state                  38577 non-null  object \n",
      " 24  dti                         38577 non-null  float64\n",
      " 25  delinq_2yrs                 38577 non-null  int64  \n",
      " 26  earliest_cr_line            38577 non-null  object \n",
      " 27  inq_last_6mths              38577 non-null  int64  \n",
      " 28  mths_since_last_delinq      13672 non-null  float64\n",
      " 29  mths_since_last_record      2740 non-null   float64\n",
      " 30  open_acc                    38577 non-null  int64  \n",
      " 31  pub_rec                     38577 non-null  int64  \n",
      " 32  revol_bal                   38577 non-null  int64  \n",
      " 33  revol_util                  38527 non-null  object \n",
      " 34  total_acc                   38577 non-null  int64  \n",
      " 35  initial_list_status         38577 non-null  object \n",
      " 36  out_prncp                   38577 non-null  float64\n",
      " 37  out_prncp_inv               38577 non-null  float64\n",
      " 38  total_pymnt                 38577 non-null  float64\n",
      " 39  total_pymnt_inv             38577 non-null  float64\n",
      " 40  total_rec_prncp             38577 non-null  float64\n",
      " 41  total_rec_int               38577 non-null  float64\n",
      " 42  total_rec_late_fee          38577 non-null  float64\n",
      " 43  recoveries                  38577 non-null  float64\n",
      " 44  collection_recovery_fee     38577 non-null  float64\n",
      " 45  last_pymnt_d                38506 non-null  object \n",
      " 46  last_pymnt_amnt             38577 non-null  float64\n",
      " 47  last_credit_pull_d          38575 non-null  object \n",
      " 48  pub_rec_bankruptcies        37880 non-null  float64\n",
      " 49  tax_liens                   38538 non-null  float64\n",
      " 50  tot_hi_cred_lim             0 non-null      float64\n",
      " 51  total_bal_ex_mort           0 non-null      float64\n",
      " 52  total_bc_limit              0 non-null      float64\n",
      " 53  total_il_high_credit_limit  0 non-null      float64\n",
      "dtypes: float64(22), int64(10), object(22)\n",
      "memory usage: 16.2+ MB\n"
     ]
    }
   ],
   "source": [
    "# while looking at the columns having zero non-null values, I observed the following:\n",
    "# eight columns have same values across all their rows: \n",
    "#policy_code = 1, application_type = INDIVIDUAL, acc_now_delinq = 0, delinq_amnt = 0, initial_list_status = f, pymnt_plan = n, out_prncp = 0, out_prncp_inv = 0\n",
    "\n",
    "# three columns have either same values across all their rows or having null values: \n",
    "#collections_12_mths_ex_med = 0 or NA, chargeoff_within_12_mths = 0 or NA, tax_liens = 0 or NA\n",
    "\n",
    "# three columns with high null values: \n",
    "#mths_since_last_record with 92.90% null values, mths_since_last_delinq with 64.56% null values, desc with 32.47% null values\n",
    "\n",
    "# hence these columns will not be useful in finding any pattern\n",
    "# drop these fourteen columns and zero non-null values columns in three steps\n",
    "df_loan = df_loan.drop(df_loan.iloc[:, 48: 104], axis = 1)\n",
    "\n",
    "# check the summary of dataframe again\n",
    "df_loan.info(verbose = True, null_counts = True)"
   ]
  },
  {
   "cell_type": "code",
   "execution_count": 9,
   "metadata": {},
   "outputs": [
    {
     "data": {
      "text/html": [
       "<div>\n",
       "<style scoped>\n",
       "    .dataframe tbody tr th:only-of-type {\n",
       "        vertical-align: middle;\n",
       "    }\n",
       "\n",
       "    .dataframe tbody tr th {\n",
       "        vertical-align: top;\n",
       "    }\n",
       "\n",
       "    .dataframe thead th {\n",
       "        text-align: right;\n",
       "    }\n",
       "</style>\n",
       "<table border=\"1\" class=\"dataframe\">\n",
       "  <thead>\n",
       "    <tr style=\"text-align: right;\">\n",
       "      <th></th>\n",
       "      <th>id</th>\n",
       "      <th>member_id</th>\n",
       "      <th>loan_amnt</th>\n",
       "      <th>funded_amnt</th>\n",
       "      <th>funded_amnt_inv</th>\n",
       "      <th>term</th>\n",
       "      <th>int_rate</th>\n",
       "      <th>installment</th>\n",
       "      <th>grade</th>\n",
       "      <th>sub_grade</th>\n",
       "      <th>...</th>\n",
       "      <th>total_pymnt_inv</th>\n",
       "      <th>total_rec_prncp</th>\n",
       "      <th>total_rec_int</th>\n",
       "      <th>total_rec_late_fee</th>\n",
       "      <th>recoveries</th>\n",
       "      <th>collection_recovery_fee</th>\n",
       "      <th>last_pymnt_d</th>\n",
       "      <th>last_pymnt_amnt</th>\n",
       "      <th>last_credit_pull_d</th>\n",
       "      <th>pub_rec_bankruptcies</th>\n",
       "    </tr>\n",
       "  </thead>\n",
       "  <tbody>\n",
       "    <tr>\n",
       "      <th>0</th>\n",
       "      <td>1077501</td>\n",
       "      <td>1296599</td>\n",
       "      <td>5000</td>\n",
       "      <td>5000</td>\n",
       "      <td>4975.0</td>\n",
       "      <td>36 months</td>\n",
       "      <td>10.65%</td>\n",
       "      <td>162.87</td>\n",
       "      <td>B</td>\n",
       "      <td>B2</td>\n",
       "      <td>...</td>\n",
       "      <td>5833.84</td>\n",
       "      <td>5000.00</td>\n",
       "      <td>863.16</td>\n",
       "      <td>0.00</td>\n",
       "      <td>0.00</td>\n",
       "      <td>0.00</td>\n",
       "      <td>Jan-15</td>\n",
       "      <td>171.62</td>\n",
       "      <td>May-16</td>\n",
       "      <td>0.0</td>\n",
       "    </tr>\n",
       "    <tr>\n",
       "      <th>1</th>\n",
       "      <td>1077430</td>\n",
       "      <td>1314167</td>\n",
       "      <td>2500</td>\n",
       "      <td>2500</td>\n",
       "      <td>2500.0</td>\n",
       "      <td>60 months</td>\n",
       "      <td>15.27%</td>\n",
       "      <td>59.83</td>\n",
       "      <td>C</td>\n",
       "      <td>C4</td>\n",
       "      <td>...</td>\n",
       "      <td>1008.71</td>\n",
       "      <td>456.46</td>\n",
       "      <td>435.17</td>\n",
       "      <td>0.00</td>\n",
       "      <td>117.08</td>\n",
       "      <td>1.11</td>\n",
       "      <td>Apr-13</td>\n",
       "      <td>119.66</td>\n",
       "      <td>Sep-13</td>\n",
       "      <td>0.0</td>\n",
       "    </tr>\n",
       "    <tr>\n",
       "      <th>2</th>\n",
       "      <td>1077175</td>\n",
       "      <td>1313524</td>\n",
       "      <td>2400</td>\n",
       "      <td>2400</td>\n",
       "      <td>2400.0</td>\n",
       "      <td>36 months</td>\n",
       "      <td>15.96%</td>\n",
       "      <td>84.33</td>\n",
       "      <td>C</td>\n",
       "      <td>C5</td>\n",
       "      <td>...</td>\n",
       "      <td>3005.67</td>\n",
       "      <td>2400.00</td>\n",
       "      <td>605.67</td>\n",
       "      <td>0.00</td>\n",
       "      <td>0.00</td>\n",
       "      <td>0.00</td>\n",
       "      <td>Jun-14</td>\n",
       "      <td>649.91</td>\n",
       "      <td>May-16</td>\n",
       "      <td>0.0</td>\n",
       "    </tr>\n",
       "    <tr>\n",
       "      <th>3</th>\n",
       "      <td>1076863</td>\n",
       "      <td>1277178</td>\n",
       "      <td>10000</td>\n",
       "      <td>10000</td>\n",
       "      <td>10000.0</td>\n",
       "      <td>36 months</td>\n",
       "      <td>13.49%</td>\n",
       "      <td>339.31</td>\n",
       "      <td>C</td>\n",
       "      <td>C1</td>\n",
       "      <td>...</td>\n",
       "      <td>12231.89</td>\n",
       "      <td>10000.00</td>\n",
       "      <td>2214.92</td>\n",
       "      <td>16.97</td>\n",
       "      <td>0.00</td>\n",
       "      <td>0.00</td>\n",
       "      <td>Jan-15</td>\n",
       "      <td>357.48</td>\n",
       "      <td>Apr-16</td>\n",
       "      <td>0.0</td>\n",
       "    </tr>\n",
       "    <tr>\n",
       "      <th>5</th>\n",
       "      <td>1075269</td>\n",
       "      <td>1311441</td>\n",
       "      <td>5000</td>\n",
       "      <td>5000</td>\n",
       "      <td>5000.0</td>\n",
       "      <td>36 months</td>\n",
       "      <td>7.90%</td>\n",
       "      <td>156.46</td>\n",
       "      <td>A</td>\n",
       "      <td>A4</td>\n",
       "      <td>...</td>\n",
       "      <td>5632.21</td>\n",
       "      <td>5000.00</td>\n",
       "      <td>632.21</td>\n",
       "      <td>0.00</td>\n",
       "      <td>0.00</td>\n",
       "      <td>0.00</td>\n",
       "      <td>Jan-15</td>\n",
       "      <td>161.03</td>\n",
       "      <td>Jan-16</td>\n",
       "      <td>0.0</td>\n",
       "    </tr>\n",
       "  </tbody>\n",
       "</table>\n",
       "<p>5 rows × 42 columns</p>\n",
       "</div>"
      ],
      "text/plain": [
       "        id  member_id  loan_amnt  funded_amnt  funded_amnt_inv        term  \\\n",
       "0  1077501    1296599       5000         5000           4975.0   36 months   \n",
       "1  1077430    1314167       2500         2500           2500.0   60 months   \n",
       "2  1077175    1313524       2400         2400           2400.0   36 months   \n",
       "3  1076863    1277178      10000        10000          10000.0   36 months   \n",
       "5  1075269    1311441       5000         5000           5000.0   36 months   \n",
       "\n",
       "  int_rate  installment grade sub_grade  ... total_pymnt_inv total_rec_prncp  \\\n",
       "0   10.65%       162.87     B        B2  ...         5833.84         5000.00   \n",
       "1   15.27%        59.83     C        C4  ...         1008.71          456.46   \n",
       "2   15.96%        84.33     C        C5  ...         3005.67         2400.00   \n",
       "3   13.49%       339.31     C        C1  ...        12231.89        10000.00   \n",
       "5    7.90%       156.46     A        A4  ...         5632.21         5000.00   \n",
       "\n",
       "  total_rec_int  total_rec_late_fee recoveries collection_recovery_fee  \\\n",
       "0        863.16                0.00       0.00                    0.00   \n",
       "1        435.17                0.00     117.08                    1.11   \n",
       "2        605.67                0.00       0.00                    0.00   \n",
       "3       2214.92               16.97       0.00                    0.00   \n",
       "5        632.21                0.00       0.00                    0.00   \n",
       "\n",
       "  last_pymnt_d last_pymnt_amnt last_credit_pull_d pub_rec_bankruptcies  \n",
       "0       Jan-15          171.62             May-16                  0.0  \n",
       "1       Apr-13          119.66             Sep-13                  0.0  \n",
       "2       Jun-14          649.91             May-16                  0.0  \n",
       "3       Jan-15          357.48             Apr-16                  0.0  \n",
       "5       Jan-15          161.03             Jan-16                  0.0  \n",
       "\n",
       "[5 rows x 42 columns]"
      ]
     },
     "execution_count": 9,
     "metadata": {},
     "output_type": "execute_result"
    }
   ],
   "source": [
    "# remove rest of the columns\n",
    "df_loan = df_loan.drop(df_loan.iloc[:, 49:], axis = 1)\n",
    "df_loan = df_loan.drop(df_loan.columns[[17, 19, 28, 29, 35, 36, 37]], axis = 1)\n",
    "\n",
    "# check dataframe\n",
    "df_loan.head()"
   ]
  },
  {
   "cell_type": "code",
   "execution_count": 10,
   "metadata": {},
   "outputs": [
    {
     "data": {
      "text/plain": [
       "38577"
      ]
     },
     "execution_count": 10,
     "metadata": {},
     "output_type": "execute_result"
    }
   ],
   "source": [
    "# check for unique values in id column\n",
    "len(df_loan.id.unique())"
   ]
  },
  {
   "cell_type": "code",
   "execution_count": 11,
   "metadata": {},
   "outputs": [
    {
     "data": {
      "text/plain": [
       "38577"
      ]
     },
     "execution_count": 11,
     "metadata": {},
     "output_type": "execute_result"
    }
   ],
   "source": [
    "# check for unique values in member_id column\n",
    "len(df_loan.member_id.unique())"
   ]
  },
  {
   "cell_type": "code",
   "execution_count": 12,
   "metadata": {},
   "outputs": [
    {
     "name": "stdout",
     "output_type": "stream",
     "text": [
      "<class 'pandas.core.frame.DataFrame'>\n",
      "Int64Index: 38577 entries, 0 to 39716\n",
      "Data columns (total 38 columns):\n",
      " #   Column                   Non-Null Count  Dtype  \n",
      "---  ------                   --------------  -----  \n",
      " 0   loan_amnt                38577 non-null  int64  \n",
      " 1   funded_amnt              38577 non-null  int64  \n",
      " 2   funded_amnt_inv          38577 non-null  float64\n",
      " 3   term                     38577 non-null  object \n",
      " 4   int_rate                 38577 non-null  object \n",
      " 5   installment              38577 non-null  float64\n",
      " 6   grade                    38577 non-null  object \n",
      " 7   sub_grade                38577 non-null  object \n",
      " 8   emp_title                36191 non-null  object \n",
      " 9   emp_length               37544 non-null  object \n",
      " 10  home_ownership           38577 non-null  object \n",
      " 11  annual_inc               38577 non-null  float64\n",
      " 12  verification_status      38577 non-null  object \n",
      " 13  issue_d                  38577 non-null  object \n",
      " 14  loan_status              38577 non-null  object \n",
      " 15  purpose                  38577 non-null  object \n",
      " 16  zip_code                 38577 non-null  object \n",
      " 17  addr_state               38577 non-null  object \n",
      " 18  dti                      38577 non-null  float64\n",
      " 19  delinq_2yrs              38577 non-null  int64  \n",
      " 20  earliest_cr_line         38577 non-null  object \n",
      " 21  inq_last_6mths           38577 non-null  int64  \n",
      " 22  open_acc                 38577 non-null  int64  \n",
      " 23  pub_rec                  38577 non-null  int64  \n",
      " 24  revol_bal                38577 non-null  int64  \n",
      " 25  revol_util               38527 non-null  object \n",
      " 26  total_acc                38577 non-null  int64  \n",
      " 27  total_pymnt              38577 non-null  float64\n",
      " 28  total_pymnt_inv          38577 non-null  float64\n",
      " 29  total_rec_prncp          38577 non-null  float64\n",
      " 30  total_rec_int            38577 non-null  float64\n",
      " 31  total_rec_late_fee       38577 non-null  float64\n",
      " 32  recoveries               38577 non-null  float64\n",
      " 33  collection_recovery_fee  38577 non-null  float64\n",
      " 34  last_pymnt_d             38506 non-null  object \n",
      " 35  last_pymnt_amnt          38577 non-null  float64\n",
      " 36  last_credit_pull_d       38575 non-null  object \n",
      " 37  pub_rec_bankruptcies     37880 non-null  float64\n",
      "dtypes: float64(13), int64(8), object(17)\n",
      "memory usage: 11.5+ MB\n"
     ]
    }
   ],
   "source": [
    "# id and member_id columns have all unique values hence these columns would not be helpful in identifying any pattern\n",
    "# only unique information in url column is \"id\" which is already present in a seperate column \"id\" hence it is redundent\n",
    "# purpose and title have similar information hence one of them is redundent\n",
    "# because title is entered by customers hence it may contain random data which might not be useful\n",
    "\n",
    "# remove id, member_id, url, and title columns\n",
    "df_loan = df_loan.drop(['id', 'member_id', 'url', 'title'], axis = 1)\n",
    "\n",
    "# check the summary of dataframe again\n",
    "df_loan.info(verbose = True, null_counts = True)"
   ]
  },
  {
   "cell_type": "code",
   "execution_count": 13,
   "metadata": {},
   "outputs": [
    {
     "name": "stdout",
     "output_type": "stream",
     "text": [
      "<class 'pandas.core.frame.DataFrame'>\n",
      "Int64Index: 38577 entries, 0 to 39716\n",
      "Data columns (total 20 columns):\n",
      " #   Column                Non-Null Count  Dtype  \n",
      "---  ------                --------------  -----  \n",
      " 0   loan_amnt             38577 non-null  int64  \n",
      " 1   funded_amnt           38577 non-null  int64  \n",
      " 2   funded_amnt_inv       38577 non-null  float64\n",
      " 3   term                  38577 non-null  object \n",
      " 4   int_rate              38577 non-null  object \n",
      " 5   installment           38577 non-null  float64\n",
      " 6   grade                 38577 non-null  object \n",
      " 7   sub_grade             38577 non-null  object \n",
      " 8   emp_title             36191 non-null  object \n",
      " 9   emp_length            37544 non-null  object \n",
      " 10  home_ownership        38577 non-null  object \n",
      " 11  annual_inc            38577 non-null  float64\n",
      " 12  verification_status   38577 non-null  object \n",
      " 13  issue_d               38577 non-null  object \n",
      " 14  loan_status           38577 non-null  object \n",
      " 15  purpose               38577 non-null  object \n",
      " 16  zip_code              38577 non-null  object \n",
      " 17  addr_state            38577 non-null  object \n",
      " 18  dti                   38577 non-null  float64\n",
      " 19  pub_rec_bankruptcies  37880 non-null  float64\n",
      "dtypes: float64(5), int64(2), object(13)\n",
      "memory usage: 6.2+ MB\n"
     ]
    }
   ],
   "source": [
    "# as explained in the session, customer behaviour variables are not available at the time of loan application\n",
    "# hence they can't be used for this analysis because here the objective is to identify strong indicators of defaulters\n",
    "\n",
    "# remove columns from index 19 to 36\n",
    "df_loan = df_loan.drop(df_loan.iloc[:, 19:37], axis = 1)\n",
    "\n",
    "# check the summary of dataframe again\n",
    "df_loan.info(verbose = True, null_counts = True)"
   ]
  },
  {
   "cell_type": "code",
   "execution_count": 14,
   "metadata": {},
   "outputs": [],
   "source": [
    "# remove % from int_rate and set column data type as float64\n",
    "df_loan['int_rate'] = df_loan['int_rate'].str.replace('%', '')\n",
    "df_loan['int_rate'] = df_loan['int_rate'].astype(float)"
   ]
  },
  {
   "cell_type": "code",
   "execution_count": 15,
   "metadata": {},
   "outputs": [
    {
     "data": {
      "text/html": [
       "<div>\n",
       "<style scoped>\n",
       "    .dataframe tbody tr th:only-of-type {\n",
       "        vertical-align: middle;\n",
       "    }\n",
       "\n",
       "    .dataframe tbody tr th {\n",
       "        vertical-align: top;\n",
       "    }\n",
       "\n",
       "    .dataframe thead th {\n",
       "        text-align: right;\n",
       "    }\n",
       "</style>\n",
       "<table border=\"1\" class=\"dataframe\">\n",
       "  <thead>\n",
       "    <tr style=\"text-align: right;\">\n",
       "      <th></th>\n",
       "      <th>loan_amnt</th>\n",
       "      <th>funded_amnt</th>\n",
       "      <th>funded_amnt_inv</th>\n",
       "      <th>term</th>\n",
       "      <th>int_rate</th>\n",
       "      <th>installment</th>\n",
       "      <th>grade</th>\n",
       "      <th>sub_grade</th>\n",
       "      <th>emp_title</th>\n",
       "      <th>emp_length</th>\n",
       "      <th>home_ownership</th>\n",
       "      <th>annual_inc</th>\n",
       "      <th>verification_status</th>\n",
       "      <th>issue_d</th>\n",
       "      <th>loan_status</th>\n",
       "      <th>purpose</th>\n",
       "      <th>zip_code</th>\n",
       "      <th>addr_state</th>\n",
       "      <th>dti</th>\n",
       "      <th>pub_rec_bankruptcies</th>\n",
       "    </tr>\n",
       "  </thead>\n",
       "  <tbody>\n",
       "    <tr>\n",
       "      <th>0</th>\n",
       "      <td>5000</td>\n",
       "      <td>5000</td>\n",
       "      <td>4975.0</td>\n",
       "      <td>36 months</td>\n",
       "      <td>10.65</td>\n",
       "      <td>162.87</td>\n",
       "      <td>B</td>\n",
       "      <td>B2</td>\n",
       "      <td>NaN</td>\n",
       "      <td>10+ years</td>\n",
       "      <td>RENT</td>\n",
       "      <td>24000.0</td>\n",
       "      <td>Verified</td>\n",
       "      <td>Dec-11</td>\n",
       "      <td>Fully Paid</td>\n",
       "      <td>credit_card</td>\n",
       "      <td>860xx</td>\n",
       "      <td>AZ</td>\n",
       "      <td>27.65</td>\n",
       "      <td>0.0</td>\n",
       "    </tr>\n",
       "    <tr>\n",
       "      <th>1</th>\n",
       "      <td>2500</td>\n",
       "      <td>2500</td>\n",
       "      <td>2500.0</td>\n",
       "      <td>60 months</td>\n",
       "      <td>15.27</td>\n",
       "      <td>59.83</td>\n",
       "      <td>C</td>\n",
       "      <td>C4</td>\n",
       "      <td>Ryder</td>\n",
       "      <td>&lt; 1 year</td>\n",
       "      <td>RENT</td>\n",
       "      <td>30000.0</td>\n",
       "      <td>Source Verified</td>\n",
       "      <td>Dec-11</td>\n",
       "      <td>Charged Off</td>\n",
       "      <td>car</td>\n",
       "      <td>309xx</td>\n",
       "      <td>GA</td>\n",
       "      <td>1.00</td>\n",
       "      <td>0.0</td>\n",
       "    </tr>\n",
       "    <tr>\n",
       "      <th>2</th>\n",
       "      <td>2400</td>\n",
       "      <td>2400</td>\n",
       "      <td>2400.0</td>\n",
       "      <td>36 months</td>\n",
       "      <td>15.96</td>\n",
       "      <td>84.33</td>\n",
       "      <td>C</td>\n",
       "      <td>C5</td>\n",
       "      <td>NaN</td>\n",
       "      <td>10+ years</td>\n",
       "      <td>RENT</td>\n",
       "      <td>12252.0</td>\n",
       "      <td>Not Verified</td>\n",
       "      <td>Dec-11</td>\n",
       "      <td>Fully Paid</td>\n",
       "      <td>small_business</td>\n",
       "      <td>606xx</td>\n",
       "      <td>IL</td>\n",
       "      <td>8.72</td>\n",
       "      <td>0.0</td>\n",
       "    </tr>\n",
       "    <tr>\n",
       "      <th>3</th>\n",
       "      <td>10000</td>\n",
       "      <td>10000</td>\n",
       "      <td>10000.0</td>\n",
       "      <td>36 months</td>\n",
       "      <td>13.49</td>\n",
       "      <td>339.31</td>\n",
       "      <td>C</td>\n",
       "      <td>C1</td>\n",
       "      <td>AIR RESOURCES BOARD</td>\n",
       "      <td>10+ years</td>\n",
       "      <td>RENT</td>\n",
       "      <td>49200.0</td>\n",
       "      <td>Source Verified</td>\n",
       "      <td>Dec-11</td>\n",
       "      <td>Fully Paid</td>\n",
       "      <td>other</td>\n",
       "      <td>917xx</td>\n",
       "      <td>CA</td>\n",
       "      <td>20.00</td>\n",
       "      <td>0.0</td>\n",
       "    </tr>\n",
       "    <tr>\n",
       "      <th>5</th>\n",
       "      <td>5000</td>\n",
       "      <td>5000</td>\n",
       "      <td>5000.0</td>\n",
       "      <td>36 months</td>\n",
       "      <td>7.90</td>\n",
       "      <td>156.46</td>\n",
       "      <td>A</td>\n",
       "      <td>A4</td>\n",
       "      <td>Veolia Transportaton</td>\n",
       "      <td>3 years</td>\n",
       "      <td>RENT</td>\n",
       "      <td>36000.0</td>\n",
       "      <td>Source Verified</td>\n",
       "      <td>Dec-11</td>\n",
       "      <td>Fully Paid</td>\n",
       "      <td>wedding</td>\n",
       "      <td>852xx</td>\n",
       "      <td>AZ</td>\n",
       "      <td>11.20</td>\n",
       "      <td>0.0</td>\n",
       "    </tr>\n",
       "  </tbody>\n",
       "</table>\n",
       "</div>"
      ],
      "text/plain": [
       "   loan_amnt  funded_amnt  funded_amnt_inv        term  int_rate  installment  \\\n",
       "0       5000         5000           4975.0   36 months     10.65       162.87   \n",
       "1       2500         2500           2500.0   60 months     15.27        59.83   \n",
       "2       2400         2400           2400.0   36 months     15.96        84.33   \n",
       "3      10000        10000          10000.0   36 months     13.49       339.31   \n",
       "5       5000         5000           5000.0   36 months      7.90       156.46   \n",
       "\n",
       "  grade sub_grade             emp_title emp_length home_ownership  annual_inc  \\\n",
       "0     B        B2                   NaN  10+ years           RENT     24000.0   \n",
       "1     C        C4                 Ryder   < 1 year           RENT     30000.0   \n",
       "2     C        C5                   NaN  10+ years           RENT     12252.0   \n",
       "3     C        C1   AIR RESOURCES BOARD  10+ years           RENT     49200.0   \n",
       "5     A        A4  Veolia Transportaton    3 years           RENT     36000.0   \n",
       "\n",
       "  verification_status issue_d  loan_status         purpose zip_code  \\\n",
       "0            Verified  Dec-11   Fully Paid     credit_card    860xx   \n",
       "1     Source Verified  Dec-11  Charged Off             car    309xx   \n",
       "2        Not Verified  Dec-11   Fully Paid  small_business    606xx   \n",
       "3     Source Verified  Dec-11   Fully Paid           other    917xx   \n",
       "5     Source Verified  Dec-11   Fully Paid         wedding    852xx   \n",
       "\n",
       "  addr_state    dti  pub_rec_bankruptcies  \n",
       "0         AZ  27.65                   0.0  \n",
       "1         GA   1.00                   0.0  \n",
       "2         IL   8.72                   0.0  \n",
       "3         CA  20.00                   0.0  \n",
       "5         AZ  11.20                   0.0  "
      ]
     },
     "execution_count": 15,
     "metadata": {},
     "output_type": "execute_result"
    }
   ],
   "source": [
    "# check dataframe\n",
    "df_loan.head()"
   ]
  },
  {
   "cell_type": "code",
   "execution_count": 16,
   "metadata": {},
   "outputs": [
    {
     "name": "stdout",
     "output_type": "stream",
     "text": [
      "<class 'pandas.core.frame.DataFrame'>\n",
      "Int64Index: 38577 entries, 0 to 39716\n",
      "Data columns (total 20 columns):\n",
      " #   Column                Non-Null Count  Dtype  \n",
      "---  ------                --------------  -----  \n",
      " 0   loan_amnt             38577 non-null  int64  \n",
      " 1   funded_amnt           38577 non-null  int64  \n",
      " 2   funded_amnt_inv       38577 non-null  float64\n",
      " 3   term                  38577 non-null  object \n",
      " 4   int_rate              38577 non-null  float64\n",
      " 5   installment           38577 non-null  float64\n",
      " 6   grade                 38577 non-null  object \n",
      " 7   sub_grade             38577 non-null  object \n",
      " 8   emp_title             36191 non-null  object \n",
      " 9   emp_length            37544 non-null  object \n",
      " 10  home_ownership        38577 non-null  object \n",
      " 11  annual_inc            38577 non-null  float64\n",
      " 12  verification_status   38577 non-null  object \n",
      " 13  issue_d               38577 non-null  object \n",
      " 14  loan_status           38577 non-null  object \n",
      " 15  purpose               38577 non-null  object \n",
      " 16  zip_code              38577 non-null  object \n",
      " 17  addr_state            38577 non-null  object \n",
      " 18  dti                   38577 non-null  float64\n",
      " 19  pub_rec_bankruptcies  37880 non-null  float64\n",
      "dtypes: float64(6), int64(2), object(12)\n",
      "memory usage: 6.2+ MB\n"
     ]
    }
   ],
   "source": [
    "# check the summary of dataframe again\n",
    "df_loan.info(verbose = True, null_counts = True)"
   ]
  },
  {
   "cell_type": "code",
   "execution_count": 17,
   "metadata": {},
   "outputs": [
    {
     "name": "stdout",
     "output_type": "stream",
     "text": [
      "<class 'pandas.core.frame.DataFrame'>\n",
      "Int64Index: 38577 entries, 0 to 39716\n",
      "Data columns (total 20 columns):\n",
      " #   Column                Non-Null Count  Dtype         \n",
      "---  ------                --------------  -----         \n",
      " 0   loan_amnt             38577 non-null  int64         \n",
      " 1   funded_amnt           38577 non-null  int64         \n",
      " 2   funded_amnt_inv       38577 non-null  float64       \n",
      " 3   term                  38577 non-null  object        \n",
      " 4   int_rate              38577 non-null  float64       \n",
      " 5   installment           38577 non-null  float64       \n",
      " 6   grade                 38577 non-null  object        \n",
      " 7   sub_grade             38577 non-null  object        \n",
      " 8   emp_title             36191 non-null  object        \n",
      " 9   emp_length            37544 non-null  object        \n",
      " 10  home_ownership        38577 non-null  object        \n",
      " 11  annual_inc            38577 non-null  float64       \n",
      " 12  verification_status   38577 non-null  object        \n",
      " 13  issue_d               38577 non-null  datetime64[ns]\n",
      " 14  loan_status           38577 non-null  object        \n",
      " 15  purpose               38577 non-null  object        \n",
      " 16  zip_code              38577 non-null  object        \n",
      " 17  addr_state            38577 non-null  object        \n",
      " 18  dti                   38577 non-null  float64       \n",
      " 19  pub_rec_bankruptcies  37880 non-null  float64       \n",
      "dtypes: datetime64[ns](1), float64(6), int64(2), object(11)\n",
      "memory usage: 6.2+ MB\n"
     ]
    }
   ],
   "source": [
    "# convert issue_d data type to datetime\n",
    "df_loan['issue_d'] = pd.to_datetime(df_loan['issue_d'], format = '%b-%y')\n",
    "\n",
    "# check the summary of dataframe again\n",
    "df_loan.info(verbose = True, null_counts = True)"
   ]
  },
  {
   "cell_type": "code",
   "execution_count": 18,
   "metadata": {},
   "outputs": [
    {
     "data": {
      "text/html": [
       "<div>\n",
       "<style scoped>\n",
       "    .dataframe tbody tr th:only-of-type {\n",
       "        vertical-align: middle;\n",
       "    }\n",
       "\n",
       "    .dataframe tbody tr th {\n",
       "        vertical-align: top;\n",
       "    }\n",
       "\n",
       "    .dataframe thead th {\n",
       "        text-align: right;\n",
       "    }\n",
       "</style>\n",
       "<table border=\"1\" class=\"dataframe\">\n",
       "  <thead>\n",
       "    <tr style=\"text-align: right;\">\n",
       "      <th></th>\n",
       "      <th>loan_amnt</th>\n",
       "      <th>funded_amnt</th>\n",
       "      <th>funded_amnt_inv</th>\n",
       "      <th>term</th>\n",
       "      <th>int_rate</th>\n",
       "      <th>installment</th>\n",
       "      <th>grade</th>\n",
       "      <th>sub_grade</th>\n",
       "      <th>emp_title</th>\n",
       "      <th>emp_length</th>\n",
       "      <th>...</th>\n",
       "      <th>verification_status</th>\n",
       "      <th>issue_d</th>\n",
       "      <th>loan_status</th>\n",
       "      <th>purpose</th>\n",
       "      <th>zip_code</th>\n",
       "      <th>addr_state</th>\n",
       "      <th>dti</th>\n",
       "      <th>pub_rec_bankruptcies</th>\n",
       "      <th>issue_month</th>\n",
       "      <th>issue_year</th>\n",
       "    </tr>\n",
       "  </thead>\n",
       "  <tbody>\n",
       "    <tr>\n",
       "      <th>0</th>\n",
       "      <td>5000</td>\n",
       "      <td>5000</td>\n",
       "      <td>4975.0</td>\n",
       "      <td>36 months</td>\n",
       "      <td>10.65</td>\n",
       "      <td>162.87</td>\n",
       "      <td>B</td>\n",
       "      <td>B2</td>\n",
       "      <td>NaN</td>\n",
       "      <td>10+ years</td>\n",
       "      <td>...</td>\n",
       "      <td>Verified</td>\n",
       "      <td>2011-12-01</td>\n",
       "      <td>Fully Paid</td>\n",
       "      <td>credit_card</td>\n",
       "      <td>860xx</td>\n",
       "      <td>AZ</td>\n",
       "      <td>27.65</td>\n",
       "      <td>0.0</td>\n",
       "      <td>12</td>\n",
       "      <td>2011</td>\n",
       "    </tr>\n",
       "    <tr>\n",
       "      <th>1</th>\n",
       "      <td>2500</td>\n",
       "      <td>2500</td>\n",
       "      <td>2500.0</td>\n",
       "      <td>60 months</td>\n",
       "      <td>15.27</td>\n",
       "      <td>59.83</td>\n",
       "      <td>C</td>\n",
       "      <td>C4</td>\n",
       "      <td>Ryder</td>\n",
       "      <td>&lt; 1 year</td>\n",
       "      <td>...</td>\n",
       "      <td>Source Verified</td>\n",
       "      <td>2011-12-01</td>\n",
       "      <td>Charged Off</td>\n",
       "      <td>car</td>\n",
       "      <td>309xx</td>\n",
       "      <td>GA</td>\n",
       "      <td>1.00</td>\n",
       "      <td>0.0</td>\n",
       "      <td>12</td>\n",
       "      <td>2011</td>\n",
       "    </tr>\n",
       "    <tr>\n",
       "      <th>2</th>\n",
       "      <td>2400</td>\n",
       "      <td>2400</td>\n",
       "      <td>2400.0</td>\n",
       "      <td>36 months</td>\n",
       "      <td>15.96</td>\n",
       "      <td>84.33</td>\n",
       "      <td>C</td>\n",
       "      <td>C5</td>\n",
       "      <td>NaN</td>\n",
       "      <td>10+ years</td>\n",
       "      <td>...</td>\n",
       "      <td>Not Verified</td>\n",
       "      <td>2011-12-01</td>\n",
       "      <td>Fully Paid</td>\n",
       "      <td>small_business</td>\n",
       "      <td>606xx</td>\n",
       "      <td>IL</td>\n",
       "      <td>8.72</td>\n",
       "      <td>0.0</td>\n",
       "      <td>12</td>\n",
       "      <td>2011</td>\n",
       "    </tr>\n",
       "    <tr>\n",
       "      <th>3</th>\n",
       "      <td>10000</td>\n",
       "      <td>10000</td>\n",
       "      <td>10000.0</td>\n",
       "      <td>36 months</td>\n",
       "      <td>13.49</td>\n",
       "      <td>339.31</td>\n",
       "      <td>C</td>\n",
       "      <td>C1</td>\n",
       "      <td>AIR RESOURCES BOARD</td>\n",
       "      <td>10+ years</td>\n",
       "      <td>...</td>\n",
       "      <td>Source Verified</td>\n",
       "      <td>2011-12-01</td>\n",
       "      <td>Fully Paid</td>\n",
       "      <td>other</td>\n",
       "      <td>917xx</td>\n",
       "      <td>CA</td>\n",
       "      <td>20.00</td>\n",
       "      <td>0.0</td>\n",
       "      <td>12</td>\n",
       "      <td>2011</td>\n",
       "    </tr>\n",
       "    <tr>\n",
       "      <th>5</th>\n",
       "      <td>5000</td>\n",
       "      <td>5000</td>\n",
       "      <td>5000.0</td>\n",
       "      <td>36 months</td>\n",
       "      <td>7.90</td>\n",
       "      <td>156.46</td>\n",
       "      <td>A</td>\n",
       "      <td>A4</td>\n",
       "      <td>Veolia Transportaton</td>\n",
       "      <td>3 years</td>\n",
       "      <td>...</td>\n",
       "      <td>Source Verified</td>\n",
       "      <td>2011-12-01</td>\n",
       "      <td>Fully Paid</td>\n",
       "      <td>wedding</td>\n",
       "      <td>852xx</td>\n",
       "      <td>AZ</td>\n",
       "      <td>11.20</td>\n",
       "      <td>0.0</td>\n",
       "      <td>12</td>\n",
       "      <td>2011</td>\n",
       "    </tr>\n",
       "  </tbody>\n",
       "</table>\n",
       "<p>5 rows × 22 columns</p>\n",
       "</div>"
      ],
      "text/plain": [
       "   loan_amnt  funded_amnt  funded_amnt_inv        term  int_rate  installment  \\\n",
       "0       5000         5000           4975.0   36 months     10.65       162.87   \n",
       "1       2500         2500           2500.0   60 months     15.27        59.83   \n",
       "2       2400         2400           2400.0   36 months     15.96        84.33   \n",
       "3      10000        10000          10000.0   36 months     13.49       339.31   \n",
       "5       5000         5000           5000.0   36 months      7.90       156.46   \n",
       "\n",
       "  grade sub_grade             emp_title emp_length  ... verification_status  \\\n",
       "0     B        B2                   NaN  10+ years  ...            Verified   \n",
       "1     C        C4                 Ryder   < 1 year  ...     Source Verified   \n",
       "2     C        C5                   NaN  10+ years  ...        Not Verified   \n",
       "3     C        C1   AIR RESOURCES BOARD  10+ years  ...     Source Verified   \n",
       "5     A        A4  Veolia Transportaton    3 years  ...     Source Verified   \n",
       "\n",
       "     issue_d  loan_status         purpose zip_code addr_state    dti  \\\n",
       "0 2011-12-01   Fully Paid     credit_card    860xx         AZ  27.65   \n",
       "1 2011-12-01  Charged Off             car    309xx         GA   1.00   \n",
       "2 2011-12-01   Fully Paid  small_business    606xx         IL   8.72   \n",
       "3 2011-12-01   Fully Paid           other    917xx         CA  20.00   \n",
       "5 2011-12-01   Fully Paid         wedding    852xx         AZ  11.20   \n",
       "\n",
       "  pub_rec_bankruptcies  issue_month  issue_year  \n",
       "0                  0.0           12        2011  \n",
       "1                  0.0           12        2011  \n",
       "2                  0.0           12        2011  \n",
       "3                  0.0           12        2011  \n",
       "5                  0.0           12        2011  \n",
       "\n",
       "[5 rows x 22 columns]"
      ]
     },
     "execution_count": 18,
     "metadata": {},
     "output_type": "execute_result"
    }
   ],
   "source": [
    "# creating two new columns for month and year from issue date\n",
    "df_loan['issue_month'] = df_loan['issue_d'].dt.month\n",
    "df_loan['issue_year'] = df_loan['issue_d'].dt.year\n",
    "\n",
    "# check the dataframe\n",
    "df_loan.head()"
   ]
  },
  {
   "cell_type": "code",
   "execution_count": 19,
   "metadata": {},
   "outputs": [
    {
     "data": {
      "text/html": [
       "<div>\n",
       "<style scoped>\n",
       "    .dataframe tbody tr th:only-of-type {\n",
       "        vertical-align: middle;\n",
       "    }\n",
       "\n",
       "    .dataframe tbody tr th {\n",
       "        vertical-align: top;\n",
       "    }\n",
       "\n",
       "    .dataframe thead th {\n",
       "        text-align: right;\n",
       "    }\n",
       "</style>\n",
       "<table border=\"1\" class=\"dataframe\">\n",
       "  <thead>\n",
       "    <tr style=\"text-align: right;\">\n",
       "      <th></th>\n",
       "      <th>loan_amnt</th>\n",
       "      <th>funded_amnt</th>\n",
       "      <th>funded_amnt_inv</th>\n",
       "      <th>term</th>\n",
       "      <th>int_rate</th>\n",
       "      <th>installment</th>\n",
       "      <th>grade</th>\n",
       "      <th>sub_grade</th>\n",
       "      <th>emp_title</th>\n",
       "      <th>emp_length</th>\n",
       "      <th>...</th>\n",
       "      <th>verification_status</th>\n",
       "      <th>issue_d</th>\n",
       "      <th>loan_status</th>\n",
       "      <th>purpose</th>\n",
       "      <th>zip_code</th>\n",
       "      <th>addr_state</th>\n",
       "      <th>dti</th>\n",
       "      <th>pub_rec_bankruptcies</th>\n",
       "      <th>issue_month</th>\n",
       "      <th>issue_year</th>\n",
       "    </tr>\n",
       "  </thead>\n",
       "  <tbody>\n",
       "    <tr>\n",
       "      <th>0</th>\n",
       "      <td>5000</td>\n",
       "      <td>5000</td>\n",
       "      <td>4975.0</td>\n",
       "      <td>36 months</td>\n",
       "      <td>10.65</td>\n",
       "      <td>162.87</td>\n",
       "      <td>B</td>\n",
       "      <td>B2</td>\n",
       "      <td>NaN</td>\n",
       "      <td>10+ years</td>\n",
       "      <td>...</td>\n",
       "      <td>Verified</td>\n",
       "      <td>2011-12-01</td>\n",
       "      <td>Fully Paid</td>\n",
       "      <td>credit_card</td>\n",
       "      <td>860</td>\n",
       "      <td>AZ</td>\n",
       "      <td>27.65</td>\n",
       "      <td>0.0</td>\n",
       "      <td>12</td>\n",
       "      <td>2011</td>\n",
       "    </tr>\n",
       "    <tr>\n",
       "      <th>1</th>\n",
       "      <td>2500</td>\n",
       "      <td>2500</td>\n",
       "      <td>2500.0</td>\n",
       "      <td>60 months</td>\n",
       "      <td>15.27</td>\n",
       "      <td>59.83</td>\n",
       "      <td>C</td>\n",
       "      <td>C4</td>\n",
       "      <td>Ryder</td>\n",
       "      <td>&lt; 1 year</td>\n",
       "      <td>...</td>\n",
       "      <td>Source Verified</td>\n",
       "      <td>2011-12-01</td>\n",
       "      <td>Charged Off</td>\n",
       "      <td>car</td>\n",
       "      <td>309</td>\n",
       "      <td>GA</td>\n",
       "      <td>1.00</td>\n",
       "      <td>0.0</td>\n",
       "      <td>12</td>\n",
       "      <td>2011</td>\n",
       "    </tr>\n",
       "    <tr>\n",
       "      <th>2</th>\n",
       "      <td>2400</td>\n",
       "      <td>2400</td>\n",
       "      <td>2400.0</td>\n",
       "      <td>36 months</td>\n",
       "      <td>15.96</td>\n",
       "      <td>84.33</td>\n",
       "      <td>C</td>\n",
       "      <td>C5</td>\n",
       "      <td>NaN</td>\n",
       "      <td>10+ years</td>\n",
       "      <td>...</td>\n",
       "      <td>Not Verified</td>\n",
       "      <td>2011-12-01</td>\n",
       "      <td>Fully Paid</td>\n",
       "      <td>small_business</td>\n",
       "      <td>606</td>\n",
       "      <td>IL</td>\n",
       "      <td>8.72</td>\n",
       "      <td>0.0</td>\n",
       "      <td>12</td>\n",
       "      <td>2011</td>\n",
       "    </tr>\n",
       "    <tr>\n",
       "      <th>3</th>\n",
       "      <td>10000</td>\n",
       "      <td>10000</td>\n",
       "      <td>10000.0</td>\n",
       "      <td>36 months</td>\n",
       "      <td>13.49</td>\n",
       "      <td>339.31</td>\n",
       "      <td>C</td>\n",
       "      <td>C1</td>\n",
       "      <td>AIR RESOURCES BOARD</td>\n",
       "      <td>10+ years</td>\n",
       "      <td>...</td>\n",
       "      <td>Source Verified</td>\n",
       "      <td>2011-12-01</td>\n",
       "      <td>Fully Paid</td>\n",
       "      <td>other</td>\n",
       "      <td>917</td>\n",
       "      <td>CA</td>\n",
       "      <td>20.00</td>\n",
       "      <td>0.0</td>\n",
       "      <td>12</td>\n",
       "      <td>2011</td>\n",
       "    </tr>\n",
       "    <tr>\n",
       "      <th>5</th>\n",
       "      <td>5000</td>\n",
       "      <td>5000</td>\n",
       "      <td>5000.0</td>\n",
       "      <td>36 months</td>\n",
       "      <td>7.90</td>\n",
       "      <td>156.46</td>\n",
       "      <td>A</td>\n",
       "      <td>A4</td>\n",
       "      <td>Veolia Transportaton</td>\n",
       "      <td>3 years</td>\n",
       "      <td>...</td>\n",
       "      <td>Source Verified</td>\n",
       "      <td>2011-12-01</td>\n",
       "      <td>Fully Paid</td>\n",
       "      <td>wedding</td>\n",
       "      <td>852</td>\n",
       "      <td>AZ</td>\n",
       "      <td>11.20</td>\n",
       "      <td>0.0</td>\n",
       "      <td>12</td>\n",
       "      <td>2011</td>\n",
       "    </tr>\n",
       "  </tbody>\n",
       "</table>\n",
       "<p>5 rows × 22 columns</p>\n",
       "</div>"
      ],
      "text/plain": [
       "   loan_amnt  funded_amnt  funded_amnt_inv        term  int_rate  installment  \\\n",
       "0       5000         5000           4975.0   36 months     10.65       162.87   \n",
       "1       2500         2500           2500.0   60 months     15.27        59.83   \n",
       "2       2400         2400           2400.0   36 months     15.96        84.33   \n",
       "3      10000        10000          10000.0   36 months     13.49       339.31   \n",
       "5       5000         5000           5000.0   36 months      7.90       156.46   \n",
       "\n",
       "  grade sub_grade             emp_title emp_length  ... verification_status  \\\n",
       "0     B        B2                   NaN  10+ years  ...            Verified   \n",
       "1     C        C4                 Ryder   < 1 year  ...     Source Verified   \n",
       "2     C        C5                   NaN  10+ years  ...        Not Verified   \n",
       "3     C        C1   AIR RESOURCES BOARD  10+ years  ...     Source Verified   \n",
       "5     A        A4  Veolia Transportaton    3 years  ...     Source Verified   \n",
       "\n",
       "     issue_d  loan_status         purpose zip_code addr_state    dti  \\\n",
       "0 2011-12-01   Fully Paid     credit_card      860         AZ  27.65   \n",
       "1 2011-12-01  Charged Off             car      309         GA   1.00   \n",
       "2 2011-12-01   Fully Paid  small_business      606         IL   8.72   \n",
       "3 2011-12-01   Fully Paid           other      917         CA  20.00   \n",
       "5 2011-12-01   Fully Paid         wedding      852         AZ  11.20   \n",
       "\n",
       "  pub_rec_bankruptcies  issue_month  issue_year  \n",
       "0                  0.0           12        2011  \n",
       "1                  0.0           12        2011  \n",
       "2                  0.0           12        2011  \n",
       "3                  0.0           12        2011  \n",
       "5                  0.0           12        2011  \n",
       "\n",
       "[5 rows x 22 columns]"
      ]
     },
     "execution_count": 19,
     "metadata": {},
     "output_type": "execute_result"
    }
   ],
   "source": [
    "# remove the encoded data from zip_code\n",
    "df_loan['zip_code'] = df_loan['zip_code'].str.replace('xx', '')\n",
    "\n",
    "# check the dataframe\n",
    "df_loan.head()"
   ]
  },
  {
   "cell_type": "code",
   "execution_count": 20,
   "metadata": {},
   "outputs": [
    {
     "data": {
      "text/html": [
       "<div>\n",
       "<style scoped>\n",
       "    .dataframe tbody tr th:only-of-type {\n",
       "        vertical-align: middle;\n",
       "    }\n",
       "\n",
       "    .dataframe tbody tr th {\n",
       "        vertical-align: top;\n",
       "    }\n",
       "\n",
       "    .dataframe thead th {\n",
       "        text-align: right;\n",
       "    }\n",
       "</style>\n",
       "<table border=\"1\" class=\"dataframe\">\n",
       "  <thead>\n",
       "    <tr style=\"text-align: right;\">\n",
       "      <th></th>\n",
       "      <th>loan_amnt</th>\n",
       "      <th>funded_amnt</th>\n",
       "      <th>funded_amnt_inv</th>\n",
       "      <th>int_rate</th>\n",
       "      <th>installment</th>\n",
       "      <th>annual_inc</th>\n",
       "      <th>dti</th>\n",
       "      <th>pub_rec_bankruptcies</th>\n",
       "      <th>issue_month</th>\n",
       "      <th>issue_year</th>\n",
       "    </tr>\n",
       "  </thead>\n",
       "  <tbody>\n",
       "    <tr>\n",
       "      <th>count</th>\n",
       "      <td>38577.000000</td>\n",
       "      <td>38577.000000</td>\n",
       "      <td>38577.000000</td>\n",
       "      <td>38577.000000</td>\n",
       "      <td>38577.000000</td>\n",
       "      <td>3.857700e+04</td>\n",
       "      <td>38577.000000</td>\n",
       "      <td>37880.000000</td>\n",
       "      <td>38577.000000</td>\n",
       "      <td>38577.000000</td>\n",
       "    </tr>\n",
       "    <tr>\n",
       "      <th>mean</th>\n",
       "      <td>11047.025430</td>\n",
       "      <td>10784.058506</td>\n",
       "      <td>10222.481123</td>\n",
       "      <td>11.932219</td>\n",
       "      <td>322.466318</td>\n",
       "      <td>6.877797e+04</td>\n",
       "      <td>13.272727</td>\n",
       "      <td>0.043479</td>\n",
       "      <td>7.114757</td>\n",
       "      <td>2010.309070</td>\n",
       "    </tr>\n",
       "    <tr>\n",
       "      <th>std</th>\n",
       "      <td>7348.441646</td>\n",
       "      <td>7090.306027</td>\n",
       "      <td>7022.720644</td>\n",
       "      <td>3.691327</td>\n",
       "      <td>208.639215</td>\n",
       "      <td>6.421868e+04</td>\n",
       "      <td>6.673044</td>\n",
       "      <td>0.204583</td>\n",
       "      <td>3.408523</td>\n",
       "      <td>0.882658</td>\n",
       "    </tr>\n",
       "    <tr>\n",
       "      <th>min</th>\n",
       "      <td>500.000000</td>\n",
       "      <td>500.000000</td>\n",
       "      <td>0.000000</td>\n",
       "      <td>5.420000</td>\n",
       "      <td>15.690000</td>\n",
       "      <td>4.000000e+03</td>\n",
       "      <td>0.000000</td>\n",
       "      <td>0.000000</td>\n",
       "      <td>1.000000</td>\n",
       "      <td>2007.000000</td>\n",
       "    </tr>\n",
       "    <tr>\n",
       "      <th>25%</th>\n",
       "      <td>5300.000000</td>\n",
       "      <td>5200.000000</td>\n",
       "      <td>5000.000000</td>\n",
       "      <td>8.940000</td>\n",
       "      <td>165.740000</td>\n",
       "      <td>4.000000e+04</td>\n",
       "      <td>8.130000</td>\n",
       "      <td>0.000000</td>\n",
       "      <td>4.000000</td>\n",
       "      <td>2010.000000</td>\n",
       "    </tr>\n",
       "    <tr>\n",
       "      <th>50%</th>\n",
       "      <td>9600.000000</td>\n",
       "      <td>9550.000000</td>\n",
       "      <td>8733.440000</td>\n",
       "      <td>11.710000</td>\n",
       "      <td>277.860000</td>\n",
       "      <td>5.886800e+04</td>\n",
       "      <td>13.370000</td>\n",
       "      <td>0.000000</td>\n",
       "      <td>7.000000</td>\n",
       "      <td>2011.000000</td>\n",
       "    </tr>\n",
       "    <tr>\n",
       "      <th>75%</th>\n",
       "      <td>15000.000000</td>\n",
       "      <td>15000.000000</td>\n",
       "      <td>14000.000000</td>\n",
       "      <td>14.380000</td>\n",
       "      <td>425.550000</td>\n",
       "      <td>8.200000e+04</td>\n",
       "      <td>18.560000</td>\n",
       "      <td>0.000000</td>\n",
       "      <td>10.000000</td>\n",
       "      <td>2011.000000</td>\n",
       "    </tr>\n",
       "    <tr>\n",
       "      <th>max</th>\n",
       "      <td>35000.000000</td>\n",
       "      <td>35000.000000</td>\n",
       "      <td>35000.000000</td>\n",
       "      <td>24.400000</td>\n",
       "      <td>1305.190000</td>\n",
       "      <td>6.000000e+06</td>\n",
       "      <td>29.990000</td>\n",
       "      <td>2.000000</td>\n",
       "      <td>12.000000</td>\n",
       "      <td>2011.000000</td>\n",
       "    </tr>\n",
       "  </tbody>\n",
       "</table>\n",
       "</div>"
      ],
      "text/plain": [
       "          loan_amnt   funded_amnt  funded_amnt_inv      int_rate  \\\n",
       "count  38577.000000  38577.000000     38577.000000  38577.000000   \n",
       "mean   11047.025430  10784.058506     10222.481123     11.932219   \n",
       "std     7348.441646   7090.306027      7022.720644      3.691327   \n",
       "min      500.000000    500.000000         0.000000      5.420000   \n",
       "25%     5300.000000   5200.000000      5000.000000      8.940000   \n",
       "50%     9600.000000   9550.000000      8733.440000     11.710000   \n",
       "75%    15000.000000  15000.000000     14000.000000     14.380000   \n",
       "max    35000.000000  35000.000000     35000.000000     24.400000   \n",
       "\n",
       "        installment    annual_inc           dti  pub_rec_bankruptcies  \\\n",
       "count  38577.000000  3.857700e+04  38577.000000          37880.000000   \n",
       "mean     322.466318  6.877797e+04     13.272727              0.043479   \n",
       "std      208.639215  6.421868e+04      6.673044              0.204583   \n",
       "min       15.690000  4.000000e+03      0.000000              0.000000   \n",
       "25%      165.740000  4.000000e+04      8.130000              0.000000   \n",
       "50%      277.860000  5.886800e+04     13.370000              0.000000   \n",
       "75%      425.550000  8.200000e+04     18.560000              0.000000   \n",
       "max     1305.190000  6.000000e+06     29.990000              2.000000   \n",
       "\n",
       "        issue_month    issue_year  \n",
       "count  38577.000000  38577.000000  \n",
       "mean       7.114757   2010.309070  \n",
       "std        3.408523      0.882658  \n",
       "min        1.000000   2007.000000  \n",
       "25%        4.000000   2010.000000  \n",
       "50%        7.000000   2011.000000  \n",
       "75%       10.000000   2011.000000  \n",
       "max       12.000000   2011.000000  "
      ]
     },
     "execution_count": 20,
     "metadata": {},
     "output_type": "execute_result"
    }
   ],
   "source": [
    "# statistical summary\n",
    "df_loan.describe()"
   ]
  },
  {
   "cell_type": "code",
   "execution_count": 21,
   "metadata": {},
   "outputs": [
    {
     "data": {
      "image/png": "[encoded data removed]",
      "text/plain": [
       "<Figure size 432x288 with 1 Axes>"
      ]
     },
     "metadata": {
      "needs_background": "light"
     },
     "output_type": "display_data"
    }
   ],
   "source": [
    "# outlier - annual_inc\n",
    "df_loan.boxplot(column = 'annual_inc')\n",
    "plt.show()"
   ]
  },
  {
   "cell_type": "code",
   "execution_count": 22,
   "metadata": {},
   "outputs": [
    {
     "data": {
      "text/plain": [
       "0.75     82000.0\n",
       "0.80     90000.0\n",
       "0.85    100000.0\n",
       "0.90    115000.0\n",
       "0.95    140004.0\n",
       "Name: annual_inc, dtype: float64"
      ]
     },
     "execution_count": 22,
     "metadata": {},
     "output_type": "execute_result"
    }
   ],
   "source": [
    "# checking for different quantile values to identify the outliers\n",
    "df_loan.annual_inc.quantile([.75, .80, .85, .90, .95])"
   ]
  },
  {
   "cell_type": "code",
   "execution_count": 23,
   "metadata": {},
   "outputs": [],
   "source": [
    "# jump in the value after 90th percentile is huge hence we may consider the values greater than 115000 as outliers\n",
    "df_loan_annual_inc_upto_115000 = df_loan[~(df_loan.annual_inc > 115000)]"
   ]
  },
  {
   "cell_type": "code",
   "execution_count": 24,
   "metadata": {},
   "outputs": [
    {
     "data": {
      "image/png": "[encoded data removed]",
      "text/plain": [
       "<Figure size 432x288 with 1 Axes>"
      ]
     },
     "metadata": {
      "needs_background": "light"
     },
     "output_type": "display_data"
    }
   ],
   "source": [
    "# assigning a shorter variable name\n",
    "df_work = df_loan_annual_inc_upto_115000\n",
    "\n",
    "df_work.boxplot(column = 'annual_inc')\n",
    "plt.show()"
   ]
  },
  {
   "cell_type": "markdown",
   "metadata": {},
   "source": [
    "# Data Analysis"
   ]
  },
  {
   "cell_type": "markdown",
   "metadata": {},
   "source": [
    "## Univariate analysis for categorical unordered variables"
   ]
  },
  {
   "cell_type": "code",
   "execution_count": 25,
   "metadata": {},
   "outputs": [],
   "source": [
    "# function to plot bar charts for categorical unordered variables\n",
    "def plot_barchart(dataframe, col):\n",
    "    ((dataframe[col].value_counts()/len(dataframe))*100).plot.bar(figsize=(20, 10))\n",
    "\n",
    "    plt.xlabel(col, fontdict={'fontsize': 20, 'fontweight' : 10, 'color' : 'Brown'})\n",
    "    plt.ylabel(\"Percentage\", fontdict={'fontsize': 20, 'fontweight' : 10, 'color' : 'Brown'})\n",
    "\n",
    "    plt.show()"
   ]
  },
  {
   "cell_type": "code",
   "execution_count": 26,
   "metadata": {},
   "outputs": [
    {
     "data": {
      "image/png": "[encoded data removed]",
      "text/plain": [
       "<Figure size 1440x720 with 1 Axes>"
      ]
     },
     "metadata": {
      "needs_background": "light"
     },
     "output_type": "display_data"
    }
   ],
   "source": [
    "# for loan status variable\n",
    "plot_barchart(df_work, 'loan_status')"
   ]
  },
  {
   "cell_type": "code",
   "execution_count": 27,
   "metadata": {},
   "outputs": [
    {
     "data": {
      "image/png": "[encoded data removed]",
      "text/plain": [
       "<Figure size 1440x720 with 1 Axes>"
      ]
     },
     "metadata": {
      "needs_background": "light"
     },
     "output_type": "display_data"
    }
   ],
   "source": [
    "# for home ownership variable\n",
    "plot_barchart(df_work, 'home_ownership')"
   ]
  },
  {
   "cell_type": "code",
   "execution_count": 28,
   "metadata": {},
   "outputs": [
    {
     "data": {
      "image/png": "[encoded data removed]",
      "text/plain": [
       "<Figure size 1440x720 with 1 Axes>"
      ]
     },
     "metadata": {
      "needs_background": "light"
     },
     "output_type": "display_data"
    }
   ],
   "source": [
    "# for verification status variable\n",
    "plot_barchart(df_work, 'verification_status')"
   ]
  },
  {
   "cell_type": "code",
   "execution_count": 29,
   "metadata": {},
   "outputs": [
    {
     "data": {
      "image/png": "[encoded data removed]",
      "text/plain": [
       "<Figure size 1440x720 with 1 Axes>"
      ]
     },
     "metadata": {
      "needs_background": "light"
     },
     "output_type": "display_data"
    }
   ],
   "source": [
    "# for purpose variable\n",
    "plot_barchart(df_work, 'purpose')"
   ]
  },
  {
   "cell_type": "code",
   "execution_count": 30,
   "metadata": {},
   "outputs": [
    {
     "data": {
      "image/png": "[encoded data removed]",
      "text/plain": [
       "<Figure size 1440x720 with 1 Axes>"
      ]
     },
     "metadata": {
      "needs_background": "light"
     },
     "output_type": "display_data"
    }
   ],
   "source": [
    "# for state variable\n",
    "plot_barchart(df_work, 'addr_state')"
   ]
  },
  {
   "cell_type": "markdown",
   "metadata": {},
   "source": [
    "## Univariate analysis for categorical ordered variables"
   ]
  },
  {
   "cell_type": "code",
   "execution_count": 31,
   "metadata": {},
   "outputs": [
    {
     "data": {
      "image/png": "[encoded data removed]",
      "text/plain": [
       "<Figure size 1440x720 with 1 Axes>"
      ]
     },
     "metadata": {
      "needs_background": "light"
     },
     "output_type": "display_data"
    }
   ],
   "source": [
    "# for term variable\n",
    "plot_barchart(df_work, 'term')"
   ]
  },
  {
   "cell_type": "code",
   "execution_count": 32,
   "metadata": {},
   "outputs": [
    {
     "data": {
      "image/png": "[encoded data removed]",
      "text/plain": [
       "<Figure size 1440x720 with 1 Axes>"
      ]
     },
     "metadata": {
      "needs_background": "light"
     },
     "output_type": "display_data"
    }
   ],
   "source": [
    "# for grade variable\n",
    "plot_barchart(df_work, 'grade')"
   ]
  },
  {
   "cell_type": "code",
   "execution_count": 33,
   "metadata": {},
   "outputs": [
    {
     "data": {
      "image/png": "[encoded data removed]",
      "text/plain": [
       "<Figure size 1440x720 with 1 Axes>"
      ]
     },
     "metadata": {
      "needs_background": "light"
     },
     "output_type": "display_data"
    }
   ],
   "source": [
    "# for loan issue month variable\n",
    "plot_barchart(df_work, 'issue_month')"
   ]
  },
  {
   "cell_type": "code",
   "execution_count": 34,
   "metadata": {},
   "outputs": [
    {
     "data": {
      "image/png": "[encoded data removed]",
      "text/plain": [
       "<Figure size 1440x720 with 1 Axes>"
      ]
     },
     "metadata": {
      "needs_background": "light"
     },
     "output_type": "display_data"
    }
   ],
   "source": [
    "# for loan issue year variable\n",
    "plot_barchart(df_work, 'issue_year')"
   ]
  },
  {
   "cell_type": "code",
   "execution_count": 35,
   "metadata": {},
   "outputs": [
    {
     "data": {
      "image/png": "[encoded data removed]",
      "text/plain": [
       "<Figure size 1440x720 with 1 Axes>"
      ]
     },
     "metadata": {
      "needs_background": "light"
     },
     "output_type": "display_data"
    }
   ],
   "source": [
    "# for employment length variable\n",
    "plot_barchart(df_work, 'emp_length')"
   ]
  },
  {
   "cell_type": "markdown",
   "metadata": {},
   "source": [
    "## Univariate analysis for numeric variables which are treated as categorical ordered variables"
   ]
  },
  {
   "cell_type": "code",
   "execution_count": 36,
   "metadata": {},
   "outputs": [],
   "source": [
    "# function to plot histogram charts\n",
    "def plot_histogramchart(dataframe, col):\n",
    "    plt.hist(dataframe[col], bins = 10, edgecolor='Orange', color='cyan')\n",
    "\n",
    "    plt.xlabel(col, fontdict={'fontsize': 20, 'fontweight' : 10, 'color' : 'Brown'})\n",
    "    plt.ylabel(\"Count\", fontdict={'fontsize': 20, 'fontweight' : 10, 'color' : 'Brown'})\n",
    "\n",
    "    plt.show()"
   ]
  },
  {
   "cell_type": "code",
   "execution_count": 37,
   "metadata": {},
   "outputs": [
    {
     "data": {
      "image/png": "[encoded data removed]",
      "text/plain": [
       "<Figure size 432x288 with 1 Axes>"
      ]
     },
     "metadata": {
      "needs_background": "light"
     },
     "output_type": "display_data"
    }
   ],
   "source": [
    "# for interest rate variable\n",
    "plot_histogramchart(df_work, 'int_rate')"
   ]
  },
  {
   "cell_type": "code",
   "execution_count": 38,
   "metadata": {},
   "outputs": [
    {
     "data": {
      "image/png": "[encoded data removed]",
      "text/plain": [
       "<Figure size 432x288 with 1 Axes>"
      ]
     },
     "metadata": {
      "needs_background": "light"
     },
     "output_type": "display_data"
    }
   ],
   "source": [
    "# for annunal income variable\n",
    "plot_histogramchart(df_work, 'annual_inc')"
   ]
  },
  {
   "cell_type": "markdown",
   "metadata": {},
   "source": [
    "## Univariate analysis for numeric variables "
   ]
  },
  {
   "cell_type": "code",
   "execution_count": 39,
   "metadata": {},
   "outputs": [
    {
     "data": {
      "text/html": [
       "<div>\n",
       "<style scoped>\n",
       "    .dataframe tbody tr th:only-of-type {\n",
       "        vertical-align: middle;\n",
       "    }\n",
       "\n",
       "    .dataframe tbody tr th {\n",
       "        vertical-align: top;\n",
       "    }\n",
       "\n",
       "    .dataframe thead th {\n",
       "        text-align: right;\n",
       "    }\n",
       "</style>\n",
       "<table border=\"1\" class=\"dataframe\">\n",
       "  <thead>\n",
       "    <tr style=\"text-align: right;\">\n",
       "      <th></th>\n",
       "      <th>loan_amnt</th>\n",
       "      <th>funded_amnt</th>\n",
       "      <th>funded_amnt_inv</th>\n",
       "      <th>int_rate</th>\n",
       "      <th>installment</th>\n",
       "      <th>annual_inc</th>\n",
       "      <th>dti</th>\n",
       "      <th>pub_rec_bankruptcies</th>\n",
       "      <th>issue_month</th>\n",
       "      <th>issue_year</th>\n",
       "    </tr>\n",
       "  </thead>\n",
       "  <tbody>\n",
       "    <tr>\n",
       "      <th>count</th>\n",
       "      <td>34723.000000</td>\n",
       "      <td>34723.000000</td>\n",
       "      <td>34723.000000</td>\n",
       "      <td>34723.000000</td>\n",
       "      <td>34723.000000</td>\n",
       "      <td>34723.000000</td>\n",
       "      <td>34723.000000</td>\n",
       "      <td>34098.000000</td>\n",
       "      <td>34723.000000</td>\n",
       "      <td>34723.000000</td>\n",
       "    </tr>\n",
       "    <tr>\n",
       "      <th>mean</th>\n",
       "      <td>10401.734441</td>\n",
       "      <td>10171.489359</td>\n",
       "      <td>9641.689510</td>\n",
       "      <td>11.862169</td>\n",
       "      <td>303.929424</td>\n",
       "      <td>57209.940431</td>\n",
       "      <td>13.543985</td>\n",
       "      <td>0.045369</td>\n",
       "      <td>7.104311</td>\n",
       "      <td>2010.306368</td>\n",
       "    </tr>\n",
       "    <tr>\n",
       "      <th>std</th>\n",
       "      <td>6841.975136</td>\n",
       "      <td>6606.930229</td>\n",
       "      <td>6537.101329</td>\n",
       "      <td>3.644937</td>\n",
       "      <td>192.888646</td>\n",
       "      <td>23615.526637</td>\n",
       "      <td>6.675047</td>\n",
       "      <td>0.208819</td>\n",
       "      <td>3.412445</td>\n",
       "      <td>0.882682</td>\n",
       "    </tr>\n",
       "    <tr>\n",
       "      <th>min</th>\n",
       "      <td>500.000000</td>\n",
       "      <td>500.000000</td>\n",
       "      <td>0.000000</td>\n",
       "      <td>5.420000</td>\n",
       "      <td>15.690000</td>\n",
       "      <td>4000.000000</td>\n",
       "      <td>0.000000</td>\n",
       "      <td>0.000000</td>\n",
       "      <td>1.000000</td>\n",
       "      <td>2007.000000</td>\n",
       "    </tr>\n",
       "    <tr>\n",
       "      <th>25%</th>\n",
       "      <td>5000.000000</td>\n",
       "      <td>5000.000000</td>\n",
       "      <td>4945.220654</td>\n",
       "      <td>8.940000</td>\n",
       "      <td>161.060000</td>\n",
       "      <td>39600.000000</td>\n",
       "      <td>8.450000</td>\n",
       "      <td>0.000000</td>\n",
       "      <td>4.000000</td>\n",
       "      <td>2010.000000</td>\n",
       "    </tr>\n",
       "    <tr>\n",
       "      <th>50%</th>\n",
       "      <td>9000.000000</td>\n",
       "      <td>8975.000000</td>\n",
       "      <td>8000.000000</td>\n",
       "      <td>11.710000</td>\n",
       "      <td>263.500000</td>\n",
       "      <td>54912.000000</td>\n",
       "      <td>13.710000</td>\n",
       "      <td>0.000000</td>\n",
       "      <td>7.000000</td>\n",
       "      <td>2011.000000</td>\n",
       "    </tr>\n",
       "    <tr>\n",
       "      <th>75%</th>\n",
       "      <td>14400.000000</td>\n",
       "      <td>14000.000000</td>\n",
       "      <td>13000.000000</td>\n",
       "      <td>14.270000</td>\n",
       "      <td>399.430000</td>\n",
       "      <td>73600.000000</td>\n",
       "      <td>18.840000</td>\n",
       "      <td>0.000000</td>\n",
       "      <td>10.000000</td>\n",
       "      <td>2011.000000</td>\n",
       "    </tr>\n",
       "    <tr>\n",
       "      <th>max</th>\n",
       "      <td>35000.000000</td>\n",
       "      <td>35000.000000</td>\n",
       "      <td>35000.000000</td>\n",
       "      <td>24.400000</td>\n",
       "      <td>1302.690000</td>\n",
       "      <td>115000.000000</td>\n",
       "      <td>29.990000</td>\n",
       "      <td>2.000000</td>\n",
       "      <td>12.000000</td>\n",
       "      <td>2011.000000</td>\n",
       "    </tr>\n",
       "  </tbody>\n",
       "</table>\n",
       "</div>"
      ],
      "text/plain": [
       "          loan_amnt   funded_amnt  funded_amnt_inv      int_rate  \\\n",
       "count  34723.000000  34723.000000     34723.000000  34723.000000   \n",
       "mean   10401.734441  10171.489359      9641.689510     11.862169   \n",
       "std     6841.975136   6606.930229      6537.101329      3.644937   \n",
       "min      500.000000    500.000000         0.000000      5.420000   \n",
       "25%     5000.000000   5000.000000      4945.220654      8.940000   \n",
       "50%     9000.000000   8975.000000      8000.000000     11.710000   \n",
       "75%    14400.000000  14000.000000     13000.000000     14.270000   \n",
       "max    35000.000000  35000.000000     35000.000000     24.400000   \n",
       "\n",
       "        installment     annual_inc           dti  pub_rec_bankruptcies  \\\n",
       "count  34723.000000   34723.000000  34723.000000          34098.000000   \n",
       "mean     303.929424   57209.940431     13.543985              0.045369   \n",
       "std      192.888646   23615.526637      6.675047              0.208819   \n",
       "min       15.690000    4000.000000      0.000000              0.000000   \n",
       "25%      161.060000   39600.000000      8.450000              0.000000   \n",
       "50%      263.500000   54912.000000     13.710000              0.000000   \n",
       "75%      399.430000   73600.000000     18.840000              0.000000   \n",
       "max     1302.690000  115000.000000     29.990000              2.000000   \n",
       "\n",
       "        issue_month    issue_year  \n",
       "count  34723.000000  34723.000000  \n",
       "mean       7.104311   2010.306368  \n",
       "std        3.412445      0.882682  \n",
       "min        1.000000   2007.000000  \n",
       "25%        4.000000   2010.000000  \n",
       "50%        7.000000   2011.000000  \n",
       "75%       10.000000   2011.000000  \n",
       "max       12.000000   2011.000000  "
      ]
     },
     "execution_count": 39,
     "metadata": {},
     "output_type": "execute_result"
    }
   ],
   "source": [
    "# statistical summary across numeric variables\n",
    "df_work.describe()"
   ]
  },
  {
   "cell_type": "markdown",
   "metadata": {},
   "source": [
    "## Segmented univariate analysis - comparing mean"
   ]
  },
  {
   "cell_type": "code",
   "execution_count": 40,
   "metadata": {},
   "outputs": [],
   "source": [
    "# function to calulate and print: \n",
    "# - the mean of a numeric variable for all it's values\n",
    "# - the mean of same numeric variable based on loan status\n",
    "\n",
    "def seg_uni(dataframe, col, variable_name):\n",
    "    print('Mean of total',variable_name,': %.2f' % dataframe[col].mean())\n",
    "    print('\\n')\n",
    "    print('Mean of',variable_name,'based on loan status:')\n",
    "    print('---------------------------------------------')\n",
    "    print(dataframe.groupby('loan_status')[col].mean().round(decimals = 2))"
   ]
  },
  {
   "cell_type": "code",
   "execution_count": 41,
   "metadata": {
    "scrolled": true
   },
   "outputs": [
    {
     "name": "stdout",
     "output_type": "stream",
     "text": [
      "Mean of total loan amount : 10401.73\n",
      "\n",
      "\n",
      "Mean of loan amount based on loan status:\n",
      "---------------------------------------------\n",
      "loan_status\n",
      "Charged Off    11541.25\n",
      "Fully Paid     10201.12\n",
      "Name: loan_amnt, dtype: float64\n"
     ]
    }
   ],
   "source": [
    "# for loan amount variable\n",
    "seg_uni(df_work, 'loan_amnt', 'loan amount')"
   ]
  },
  {
   "cell_type": "code",
   "execution_count": 42,
   "metadata": {},
   "outputs": [
    {
     "name": "stdout",
     "output_type": "stream",
     "text": [
      "Mean of total funded amount : 10171.49\n",
      "\n",
      "\n",
      "Mean of funded amount based on loan status:\n",
      "---------------------------------------------\n",
      "loan_status\n",
      "Charged Off    11228.40\n",
      "Fully Paid      9985.42\n",
      "Name: funded_amnt, dtype: float64\n"
     ]
    }
   ],
   "source": [
    "# for funded amount variable\n",
    "seg_uni(df_work, 'funded_amnt', 'funded amount')"
   ]
  },
  {
   "cell_type": "code",
   "execution_count": 43,
   "metadata": {},
   "outputs": [
    {
     "name": "stdout",
     "output_type": "stream",
     "text": [
      "Mean of total funded amount by investor : 9641.69\n",
      "\n",
      "\n",
      "Mean of funded amount by investor based on loan status:\n",
      "---------------------------------------------\n",
      "loan_status\n",
      "Charged Off    10380.31\n",
      "Fully Paid      9511.65\n",
      "Name: funded_amnt_inv, dtype: float64\n"
     ]
    }
   ],
   "source": [
    "# for funded amount by investor variable \n",
    "seg_uni(df_work, 'funded_amnt_inv', 'funded amount by investor')"
   ]
  },
  {
   "cell_type": "code",
   "execution_count": 44,
   "metadata": {},
   "outputs": [
    {
     "name": "stdout",
     "output_type": "stream",
     "text": [
      "Mean of total interest rate : 11.86\n",
      "\n",
      "\n",
      "Mean of interest rate based on loan status:\n",
      "---------------------------------------------\n",
      "loan_status\n",
      "Charged Off    13.72\n",
      "Fully Paid     11.54\n",
      "Name: int_rate, dtype: float64\n"
     ]
    }
   ],
   "source": [
    "# for interest rate\n",
    "seg_uni(df_work, 'int_rate', 'interest rate')"
   ]
  },
  {
   "cell_type": "code",
   "execution_count": 45,
   "metadata": {},
   "outputs": [
    {
     "name": "stdout",
     "output_type": "stream",
     "text": [
      "Mean of total installment : 303.93\n",
      "\n",
      "\n",
      "Mean of installment based on loan status:\n",
      "---------------------------------------------\n",
      "loan_status\n",
      "Charged Off    320.39\n",
      "Fully Paid     301.03\n",
      "Name: installment, dtype: float64\n"
     ]
    }
   ],
   "source": [
    "# for installment variable\n",
    "seg_uni(df_work, 'installment', 'installment')"
   ]
  },
  {
   "cell_type": "code",
   "execution_count": 46,
   "metadata": {},
   "outputs": [
    {
     "name": "stdout",
     "output_type": "stream",
     "text": [
      "Mean of total annual income : 57209.94\n",
      "\n",
      "\n",
      "Mean of annual income based on loan status:\n",
      "---------------------------------------------\n",
      "loan_status\n",
      "Charged Off    53491.46\n",
      "Fully Paid     57864.59\n",
      "Name: annual_inc, dtype: float64\n"
     ]
    }
   ],
   "source": [
    "# for annual income variable\n",
    "seg_uni(df_work, 'annual_inc', 'annual income')"
   ]
  },
  {
   "cell_type": "code",
   "execution_count": 47,
   "metadata": {},
   "outputs": [
    {
     "name": "stdout",
     "output_type": "stream",
     "text": [
      "Mean of total debt to income ratio : 13.54\n",
      "\n",
      "\n",
      "Mean of debt to income ratio based on loan status:\n",
      "---------------------------------------------\n",
      "loan_status\n",
      "Charged Off    14.17\n",
      "Fully Paid     13.43\n",
      "Name: dti, dtype: float64\n"
     ]
    }
   ],
   "source": [
    "# for debt to income ratio variable\n",
    "seg_uni(df_work, 'dti', 'debt to income ratio')"
   ]
  },
  {
   "cell_type": "code",
   "execution_count": 48,
   "metadata": {},
   "outputs": [
    {
     "name": "stdout",
     "output_type": "stream",
     "text": [
      "Mean of total public record of bankruptcies : 0.05\n",
      "\n",
      "\n",
      "Mean of public record of bankruptcies based on loan status:\n",
      "---------------------------------------------\n",
      "loan_status\n",
      "Charged Off    0.07\n",
      "Fully Paid     0.04\n",
      "Name: pub_rec_bankruptcies, dtype: float64\n"
     ]
    }
   ],
   "source": [
    "# for public record of bankruptcies variable\n",
    "seg_uni(df_work, 'pub_rec_bankruptcies', 'public record of bankruptcies')"
   ]
  },
  {
   "cell_type": "markdown",
   "metadata": {},
   "source": [
    "### Observation: With public record of bankruptcies, there is a higher chance of defaulting the loan "
   ]
  },
  {
   "cell_type": "markdown",
   "metadata": {},
   "source": [
    "## Segmented univariate analysis - comparing other metrics"
   ]
  },
  {
   "cell_type": "code",
   "execution_count": 49,
   "metadata": {},
   "outputs": [],
   "source": [
    "# function to plot boxplot for numeric variables grouped by loan status\n",
    "\n",
    "def plot_boxplot(dataframe, col):\n",
    "    dataframe.boxplot(column=col, by='loan_status', figsize = (10,5))\n",
    "    plt.show()"
   ]
  },
  {
   "cell_type": "code",
   "execution_count": 50,
   "metadata": {},
   "outputs": [
    {
     "data": {
      "image/png": "[encoded data removed]",
      "text/plain": [
       "<Figure size 720x360 with 1 Axes>"
      ]
     },
     "metadata": {
      "needs_background": "light"
     },
     "output_type": "display_data"
    }
   ],
   "source": [
    "# loan amount grouped by loan status\n",
    "plot_boxplot(df_work, 'loan_amnt')"
   ]
  },
  {
   "cell_type": "code",
   "execution_count": 51,
   "metadata": {},
   "outputs": [
    {
     "data": {
      "image/png": "[encoded data removed]",
      "text/plain": [
       "<Figure size 720x360 with 1 Axes>"
      ]
     },
     "metadata": {
      "needs_background": "light"
     },
     "output_type": "display_data"
    }
   ],
   "source": [
    "# funded amount grouped by loan status\n",
    "plot_boxplot(df_work, 'funded_amnt')"
   ]
  },
  {
   "cell_type": "code",
   "execution_count": 52,
   "metadata": {},
   "outputs": [
    {
     "data": {
      "image/png": "[encoded data removed]",
      "text/plain": [
       "<Figure size 720x360 with 1 Axes>"
      ]
     },
     "metadata": {
      "needs_background": "light"
     },
     "output_type": "display_data"
    }
   ],
   "source": [
    "# funded amount by investor grouped by loan status\n",
    "plot_boxplot(df_work, 'funded_amnt_inv')"
   ]
  },
  {
   "cell_type": "markdown",
   "metadata": {},
   "source": [
    "### Observation: Though at the lower level of fund amount given by investors, loan defaults are almost equal to loan paid but at the higher amounts, loan defaults are high"
   ]
  },
  {
   "cell_type": "code",
   "execution_count": 53,
   "metadata": {},
   "outputs": [
    {
     "data": {
      "image/png": "[encoded data removed]",
      "text/plain": [
       "<Figure size 720x360 with 1 Axes>"
      ]
     },
     "metadata": {
      "needs_background": "light"
     },
     "output_type": "display_data"
    }
   ],
   "source": [
    "# interest rate grouped by loan status\n",
    "plot_boxplot(df_work, 'int_rate')"
   ]
  },
  {
   "cell_type": "markdown",
   "metadata": {},
   "source": [
    "### Observation: Defaults are more with higher interest rate"
   ]
  },
  {
   "cell_type": "code",
   "execution_count": 54,
   "metadata": {},
   "outputs": [
    {
     "data": {
      "image/png": "[encoded data removed]",
      "text/plain": [
       "<Figure size 720x360 with 1 Axes>"
      ]
     },
     "metadata": {
      "needs_background": "light"
     },
     "output_type": "display_data"
    }
   ],
   "source": [
    "# installment grouped by loan status\n",
    "plot_boxplot(df_work, 'installment')"
   ]
  },
  {
   "cell_type": "code",
   "execution_count": 55,
   "metadata": {},
   "outputs": [
    {
     "data": {
      "image/png": "[encoded data removed]",
      "text/plain": [
       "<Figure size 720x360 with 1 Axes>"
      ]
     },
     "metadata": {
      "needs_background": "light"
     },
     "output_type": "display_data"
    }
   ],
   "source": [
    "# annual income grouped by loan status\n",
    "plot_boxplot(df_work, 'annual_inc')"
   ]
  },
  {
   "cell_type": "markdown",
   "metadata": {},
   "source": [
    "### Observation: Lower income tend to have more defaults"
   ]
  },
  {
   "cell_type": "code",
   "execution_count": 56,
   "metadata": {},
   "outputs": [
    {
     "data": {
      "image/png": "[encoded data removed]",
      "text/plain": [
       "<Figure size 720x360 with 1 Axes>"
      ]
     },
     "metadata": {
      "needs_background": "light"
     },
     "output_type": "display_data"
    }
   ],
   "source": [
    "# debt to income ratio grouped by loan status\n",
    "plot_boxplot(df_work, 'dti')"
   ]
  },
  {
   "cell_type": "markdown",
   "metadata": {},
   "source": [
    "### Observation: If debt to income ratio is higher than more chances of defaulting the loan"
   ]
  },
  {
   "cell_type": "code",
   "execution_count": 57,
   "metadata": {},
   "outputs": [
    {
     "data": {
      "image/png": "[encoded data removed]",
      "text/plain": [
       "<Figure size 720x360 with 1 Axes>"
      ]
     },
     "metadata": {
      "needs_background": "light"
     },
     "output_type": "display_data"
    }
   ],
   "source": [
    "# public record of bankruptcies grouped by loan status\n",
    "plot_boxplot(df_work, 'pub_rec_bankruptcies')"
   ]
  },
  {
   "cell_type": "markdown",
   "metadata": {},
   "source": [
    "## Bivariate analysis"
   ]
  },
  {
   "cell_type": "code",
   "execution_count": 58,
   "metadata": {},
   "outputs": [],
   "source": [
    "# function to plot comparative bar chart to analyse the impact of different categorical variables on loan status\n",
    "\n",
    "def plot_comp_barchart(dataframe, col):\n",
    "    df_temp = dataframe[['loan_status', col]]\n",
    "    df_temp1 = pd.pivot_table(df_temp, index=[col], columns=['loan_status'], aggfunc = 'size')\n",
    "    df_temp1[['Charged Off', 'Fully Paid']].apply(lambda x: (x/x.sum())*100, axis = 1).plot(kind = 'bar', ylabel = 'Percentage', figsize = (10, 5))\n",
    "    plt.legend(loc='upper right')\n",
    "    plt.show()"
   ]
  },
  {
   "cell_type": "code",
   "execution_count": 59,
   "metadata": {},
   "outputs": [
    {
     "data": {
      "image/png": "[encoded data removed]",
      "text/plain": [
       "<Figure size 720x360 with 1 Axes>"
      ]
     },
     "metadata": {
      "needs_background": "light"
     },
     "output_type": "display_data"
    }
   ],
   "source": [
    "# home ownership and loan status\n",
    "plot_comp_barchart(df_work, 'home_ownership')"
   ]
  },
  {
   "cell_type": "code",
   "execution_count": 60,
   "metadata": {},
   "outputs": [
    {
     "data": {
      "image/png": "[encoded data removed]",
      "text/plain": [
       "<Figure size 720x360 with 1 Axes>"
      ]
     },
     "metadata": {
      "needs_background": "light"
     },
     "output_type": "display_data"
    }
   ],
   "source": [
    "# verification status and loan status\n",
    "plot_comp_barchart(df_work, 'verification_status')"
   ]
  },
  {
   "cell_type": "code",
   "execution_count": 61,
   "metadata": {},
   "outputs": [
    {
     "data": {
      "image/png": "[encoded data removed]",
      "text/plain": [
       "<Figure size 720x360 with 1 Axes>"
      ]
     },
     "metadata": {
      "needs_background": "light"
     },
     "output_type": "display_data"
    }
   ],
   "source": [
    "# purpose and loan status\n",
    "plot_comp_barchart(df_work, 'purpose')"
   ]
  },
  {
   "cell_type": "markdown",
   "metadata": {},
   "source": [
    "### Observation: High chances of defaulting the loan if it is taken for small business"
   ]
  },
  {
   "cell_type": "code",
   "execution_count": 62,
   "metadata": {},
   "outputs": [
    {
     "data": {
      "image/png": "[encoded data removed]",
      "text/plain": [
       "<Figure size 720x360 with 1 Axes>"
      ]
     },
     "metadata": {
      "needs_background": "light"
     },
     "output_type": "display_data"
    }
   ],
   "source": [
    "# state and loan status\n",
    "plot_comp_barchart(df_work, 'addr_state')"
   ]
  },
  {
   "cell_type": "markdown",
   "metadata": {},
   "source": [
    "### Observation: Borrowers from nebraska have the highest default rate compare to any other state"
   ]
  },
  {
   "cell_type": "code",
   "execution_count": 63,
   "metadata": {},
   "outputs": [
    {
     "data": {
      "image/png": "[encoded data removed]",
      "text/plain": [
       "<Figure size 720x360 with 1 Axes>"
      ]
     },
     "metadata": {
      "needs_background": "light"
     },
     "output_type": "display_data"
    }
   ],
   "source": [
    "# term and loan status\n",
    "plot_comp_barchart(df_work, 'term')"
   ]
  },
  {
   "cell_type": "markdown",
   "metadata": {},
   "source": [
    "### Observation: High chances of defaulting the loan if payment term is 60 months"
   ]
  },
  {
   "cell_type": "code",
   "execution_count": 64,
   "metadata": {},
   "outputs": [
    {
     "data": {
      "image/png": "[encoded data removed]",
      "text/plain": [
       "<Figure size 720x360 with 1 Axes>"
      ]
     },
     "metadata": {
      "needs_background": "light"
     },
     "output_type": "display_data"
    }
   ],
   "source": [
    "# grade and loan status \n",
    "plot_comp_barchart(df_work, 'grade') "
   ]
  },
  {
   "cell_type": "markdown",
   "metadata": {},
   "source": [
    "### Observation: Lower the grade, higher the chance of defaulting the loan"
   ]
  },
  {
   "cell_type": "code",
   "execution_count": 65,
   "metadata": {},
   "outputs": [
    {
     "data": {
      "image/png": "[encoded data removed]",
      "text/plain": [
       "<Figure size 720x360 with 1 Axes>"
      ]
     },
     "metadata": {
      "needs_background": "light"
     },
     "output_type": "display_data"
    }
   ],
   "source": [
    "# loan issue month and loan status\n",
    "plot_comp_barchart(df_work, 'issue_month')"
   ]
  },
  {
   "cell_type": "code",
   "execution_count": 66,
   "metadata": {},
   "outputs": [
    {
     "data": {
      "image/png": "[encoded data removed]",
      "text/plain": [
       "<Figure size 720x360 with 1 Axes>"
      ]
     },
     "metadata": {
      "needs_background": "light"
     },
     "output_type": "display_data"
    }
   ],
   "source": [
    "# loan issue year and loan status\n",
    "plot_comp_barchart(df_work, 'issue_year')"
   ]
  },
  {
   "cell_type": "code",
   "execution_count": 67,
   "metadata": {},
   "outputs": [
    {
     "data": {
      "image/png": "[encoded data removed]",
      "text/plain": [
       "<Figure size 720x360 with 1 Axes>"
      ]
     },
     "metadata": {
      "needs_background": "light"
     },
     "output_type": "display_data"
    }
   ],
   "source": [
    "# employment length and loan status\n",
    "plot_comp_barchart(df_work, 'emp_length')"
   ]
  },
  {
   "cell_type": "markdown",
   "metadata": {},
   "source": [
    "## Type Driven Metrics\n",
    "### As per Steven's topology, following is the classification of different variables:\n",
    "\n",
    "### Nominal Variables - emp_title, home_ownership, verification_status, loan_status, purpose, addr_state\n",
    "\n",
    "### Ordinal Variables - grade, subgrade\n",
    "\n",
    "### Interval Variables - issue_month, issue_year (this is type driven metrics which I derived from issue_date)\n",
    "\n",
    "### Ratio Variables - loan_amnt, funded_amnt, funded_amnt_inv, annual_inc"
   ]
  },
  {
   "cell_type": "markdown",
   "metadata": {},
   "source": [
    "## Business Driven Metrics\n",
    "### Defaulter or not? - this can be derived based on the loan_status column"
   ]
  },
  {
   "cell_type": "markdown",
   "metadata": {},
   "source": [
    "## Data Driven Metrics\n",
    "### Based on the outliers for annual income data, another columm \"outlier or not?\" can be created\n",
    "\n",
    "### I have not created such column during my analysis but I have used the outlier data from annual income to remove the data rows and conduct the final analysis"
   ]
  },
  {
   "cell_type": "markdown",
   "metadata": {},
   "source": [
    "# Five strong indicators of loan default are:\n",
    "## grade\n",
    "## interest rate\n",
    "## debt to income ratio\n",
    "## public record of bankruptcies\n",
    "## term"
   ]
  },
  {
   "cell_type": "markdown",
   "metadata": {},
   "source": [
    "# Please refer presentation for recommendations"
   ]
  },
  {
   "cell_type": "code",
   "execution_count": null,
   "metadata": {},
   "outputs": [],
   "source": []
  }
 ],
 "metadata": {
  "kernelspec": {
   "display_name": "Python 3",
   "language": "python",
   "name": "python3"
  },
  "language_info": {
   "codemirror_mode": {
    "name": "ipython",
    "version": 3
   },
   "file_extension": ".py",
   "mimetype": "text/x-python",
   "name": "python",
   "nbconvert_exporter": "python",
   "pygments_lexer": "ipython3",
   "version": "3.8.5"
  }
 },
 "nbformat": 4,
 "nbformat_minor": 4
}
